{
 "cells": [
  {
   "cell_type": "code",
   "id": "initial_id",
   "metadata": {
    "collapsed": true,
    "ExecuteTime": {
     "end_time": "2024-12-27T13:48:49.101911Z",
     "start_time": "2024-12-27T13:48:48.044250Z"
    }
   },
   "source": [
    "import pandas as pd\n",
    "import numpy as np\n",
    "import torch\n",
    "import torch.nn as nn\n",
    "from torch.utils.data import Dataset, DataLoader, random_split\n",
    "from tqdm import tqdm\n",
    "import matplotlib.pyplot as plt"
   ],
   "outputs": [],
   "execution_count": 31
  },
  {
   "metadata": {
    "ExecuteTime": {
     "end_time": "2024-12-27T13:55:05.394910Z",
     "start_time": "2024-12-27T13:55:05.390870Z"
    }
   },
   "cell_type": "code",
   "source": [
    "model = nn.Sequential(nn.Linear(5,128),nn.ReLU(),\n",
    "                      nn.Linear(128,256),nn.ReLU(),\n",
    "                      nn.Linear(256,128),nn.ReLU(),\n",
    "                      nn.Linear(128,50),nn.Sigmoid(),\n",
    "                      nn.Linear(50,1))\n",
    "loss_fn = nn.BCEWithLogitsLoss()\n",
    "optimizer = torch.optim.Adam(model.parameters(), lr = 0.001)"
   ],
   "id": "714b9efc62532712",
   "outputs": [],
   "execution_count": 41
  },
  {
   "metadata": {
    "ExecuteTime": {
     "end_time": "2024-12-27T14:03:57.587325Z",
     "start_time": "2024-12-27T14:03:57.583682Z"
    }
   },
   "cell_type": "code",
   "source": [
    "class Dataset(Dataset):\n",
    "    def __init__(self):\n",
    "        test = pd.read_csv('data/train.csv')\n",
    "        del test['Ticket']\n",
    "        del test['Fare']\n",
    "        del test['Cabin']\n",
    "        del test['Name']\n",
    "        del test['Embarked']\n",
    "        test['Sex'] = test['Sex'].replace({\"male\": 0, \"female\": 1}).astype(np.int8)\n",
    "        test['Age'] = test['Age'].fillna(value=test['Age'].median())\n",
    "        self.data = test\n",
    "    def __len__(self):\n",
    "        return len(self.data)\n",
    "    def __getitem__(self,index):\n",
    "        target = self.data.iloc[index].tolist()[1]\n",
    "        sample = self.data.iloc[index].tolist()[2:]\n",
    "        \n",
    "        target = torch.tensor(target)\n",
    "        sample = torch.tensor(sample)\n",
    "        return target, sample"
   ],
   "id": "d6c71cf0403aec42",
   "outputs": [],
   "execution_count": 48
  },
  {
   "metadata": {
    "ExecuteTime": {
     "end_time": "2024-12-27T13:42:24.486203Z",
     "start_time": "2024-12-27T13:42:24.478895Z"
    }
   },
   "cell_type": "code",
   "source": [
    "data = Dataset()\n",
    "train_set, val_set= random_split(data,[0.9,0.1])\n",
    "train_loader = DataLoader(train_set,batch_size = 8, shuffle= True)\n",
    "val_loader = DataLoader(val_set,batch_size = 8, shuffle= False)"
   ],
   "id": "14242a5bb141d188",
   "outputs": [
    {
     "name": "stderr",
     "output_type": "stream",
     "text": [
      "C:\\Users\\admin\\AppData\\Local\\Temp\\ipykernel_6820\\3865981479.py:9: FutureWarning: Downcasting behavior in `replace` is deprecated and will be removed in a future version. To retain the old behavior, explicitly call `result.infer_objects(copy=False)`. To opt-in to the future behavior, set `pd.set_option('future.no_silent_downcasting', True)`\n",
      "  test['Sex'] = test['Sex'].replace({\"male\": 0, \"female\": 1}).astype(np.int8)\n"
     ]
    }
   ],
   "execution_count": 26
  },
  {
   "metadata": {
    "ExecuteTime": {
     "end_time": "2024-12-27T14:01:55.488173Z",
     "start_time": "2024-12-27T14:01:55.484893Z"
    }
   },
   "cell_type": "code",
   "source": [
    "train_loss = []\n",
    "val_loss = []\n",
    "accuracy_train =[]\n",
    "accuracy_val =[]"
   ],
   "id": "8ae6b5dcc46f9c9a",
   "outputs": [],
   "execution_count": 44
  },
  {
   "metadata": {
    "ExecuteTime": {
     "end_time": "2024-12-27T14:02:03.904171Z",
     "start_time": "2024-12-27T14:02:00.499282Z"
    }
   },
   "cell_type": "code",
   "source": [
    "for i in range(10):\n",
    "    model.train()\n",
    "    \n",
    "    train_loop = tqdm(train_loader,leave=True)\n",
    "    correct = 0 \n",
    "    total = 0\n",
    "    mean_loss = []\n",
    "    \n",
    "    for target, x in train_loop:\n",
    "        \n",
    "        target = target.unsqueeze(1)\n",
    "        pred = model(x)\n",
    "        loss = loss_fn(pred,target)\n",
    "        optimizer.zero_grad()\n",
    "        loss.backward()\n",
    "        optimizer.step()\n",
    "        \n",
    "        mean_loss.append(loss.item())\n",
    "        train_loop.set_description(f\"Epohs:{i} loss: {loss.item():.4f}\")\n",
    "        \n",
    "    train_loss.append(sum(mean_loss) / len(mean_loss))\n",
    "    mean_loss =[]\n",
    "    with torch.no_grad():\n",
    "        model.eval()\n",
    "        val_loop = tqdm(val_loader,leave=True)\n",
    "        for target, x in val_loop:\n",
    "            \n",
    "            target = target.unsqueeze(1)\n",
    "            pred = model(x)\n",
    "            loss = loss_fn(pred,target)\n",
    "            mean_loss.append(loss.item())\n",
    "            val_loop.set_description(f\"Epohs:{i} loss: {loss.item():.4f}\")\n",
    "        \n",
    "    val_loss.append(sum(mean_loss) / len(mean_loss))\n",
    "    "
   ],
   "id": "361ff5362111e7ed",
   "outputs": [
    {
     "name": "stderr",
     "output_type": "stream",
     "text": [
      "Epohs:0 loss: 0.6043: 100%|██████████| 101/101 [00:00<00:00, 264.73it/s]\n",
      "Epohs:0 loss: 1.0506: 100%|██████████| 12/12 [00:00<00:00, 630.78it/s]\n",
      "Epohs:1 loss: 0.0704: 100%|██████████| 101/101 [00:00<00:00, 330.21it/s]\n",
      "Epohs:1 loss: 0.8629: 100%|██████████| 12/12 [00:00<00:00, 656.27it/s]\n",
      "Epohs:2 loss: 1.5414: 100%|██████████| 101/101 [00:00<00:00, 332.69it/s]\n",
      "Epohs:2 loss: 0.8704: 100%|██████████| 12/12 [00:00<00:00, 647.38it/s]\n",
      "Epohs:3 loss: 0.0811: 100%|██████████| 101/101 [00:00<00:00, 339.54it/s]\n",
      "Epohs:3 loss: 0.8623: 100%|██████████| 12/12 [00:00<00:00, 644.29it/s]\n",
      "Epohs:4 loss: 0.0778: 100%|██████████| 101/101 [00:00<00:00, 326.96it/s]\n",
      "Epohs:4 loss: 1.6820: 100%|██████████| 12/12 [00:00<00:00, 719.55it/s]\n",
      "Epohs:5 loss: 0.2623: 100%|██████████| 101/101 [00:00<00:00, 313.23it/s]\n",
      "Epohs:5 loss: 0.8690: 100%|██████████| 12/12 [00:00<00:00, 584.33it/s]\n",
      "Epohs:6 loss: 0.0802: 100%|██████████| 101/101 [00:00<00:00, 286.58it/s]\n",
      "Epohs:6 loss: 0.8951: 100%|██████████| 12/12 [00:00<00:00, 700.43it/s]\n",
      "Epohs:7 loss: 0.5401: 100%|██████████| 101/101 [00:00<00:00, 335.23it/s]\n",
      "Epohs:7 loss: 0.9716: 100%|██████████| 12/12 [00:00<00:00, 684.76it/s]\n",
      "Epohs:8 loss: 0.2133: 100%|██████████| 101/101 [00:00<00:00, 331.07it/s]\n",
      "Epohs:8 loss: 1.1800: 100%|██████████| 12/12 [00:00<00:00, 541.85it/s]\n",
      "Epohs:9 loss: 1.6089: 100%|██████████| 101/101 [00:00<00:00, 332.00it/s]\n",
      "Epohs:9 loss: 0.7736: 100%|██████████| 12/12 [00:00<00:00, 705.04it/s]\n"
     ]
    }
   ],
   "execution_count": 45
  },
  {
   "metadata": {
    "ExecuteTime": {
     "end_time": "2024-12-27T14:02:08.233772Z",
     "start_time": "2024-12-27T14:02:08.153618Z"
    }
   },
   "cell_type": "code",
   "source": [
    "# Построение графика\n",
    "plt.plot(train_loss, label='Train Loss', color='blue')  # Синим график обучающих потерь\n",
    "plt.plot(val_loss, label='Validation Loss', color='red')   # Отображаем график потерь\n",
    "plt.xlabel('Epoch')  # Подпись оси X (например, эпохи)\n",
    "plt.ylabel('Loss')  # Подпись оси Y (значения потерь)\n",
    "plt.title('Loss over Epochs')  # Заголовок графика\n",
    "plt.legend()  # Легенда\n",
    "plt.grid(True)  # Включение сетки\n",
    "plt.show() "
   ],
   "id": "af129e0735c91a68",
   "outputs": [
    {
     "data": {
      "text/plain": [
       "<Figure size 640x480 with 1 Axes>"
      ],
      "image/png": "[encoded data removed]"
     },
     "metadata": {},
     "output_type": "display_data"
    }
   ],
   "execution_count": 46
  },
  {
   "metadata": {
    "ExecuteTime": {
     "end_time": "2024-12-27T14:22:26.450247Z",
     "start_time": "2024-12-27T14:22:26.438924Z"
    }
   },
   "cell_type": "code",
   "source": [
    "data1 = Dataset()\n",
    "target, sample =data1[102]\n",
    "print(sample)\n",
    "print(target)\n",
    "out = model(sample)\n",
    "out = torch.clamp(out, 0, 1)\n",
    "print(torch.round(out))"
   ],
   "id": "3841c9a06e30faf6",
   "outputs": [
    {
     "name": "stdout",
     "output_type": "stream",
     "text": [
      "tensor([ 1.,  0., 21.,  0.,  1.])\n",
      "tensor(0.)\n",
      "tensor([0.], grad_fn=<RoundBackward0>)\n"
     ]
    },
    {
     "name": "stderr",
     "output_type": "stream",
     "text": [
      "C:\\Users\\admin\\AppData\\Local\\Temp\\ipykernel_6820\\3865981479.py:9: FutureWarning: Downcasting behavior in `replace` is deprecated and will be removed in a future version. To retain the old behavior, explicitly call `result.infer_objects(copy=False)`. To opt-in to the future behavior, set `pd.set_option('future.no_silent_downcasting', True)`\n",
      "  test['Sex'] = test['Sex'].replace({\"male\": 0, \"female\": 1}).astype(np.int8)\n"
     ]
    }
   ],
   "execution_count": 58
  },
  {
   "metadata": {},
   "cell_type": "code",
   "outputs": [],
   "execution_count": null,
   "source": "",
   "id": "a373d780d8c624e8"
  }
 ],
 "metadata": {
  "kernelspec": {
   "display_name": "Python 3",
   "language": "python",
   "name": "python3"
  },
  "language_info": {
   "codemirror_mode": {
    "name": "ipython",
    "version": 2
   },
   "file_extension": ".py",
   "mimetype": "text/x-python",
   "name": "python",
   "nbconvert_exporter": "python",
   "pygments_lexer": "ipython2",
   "version": "2.7.6"
  }
 },
 "nbformat": 4,
 "nbformat_minor": 5
}

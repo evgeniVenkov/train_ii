{
 "cells": [
  {
   "cell_type": "code",
   "id": "initial_id",
   "metadata": {
    "collapsed": true,
    "ExecuteTime": {
     "end_time": "2024-12-29T10:09:30.079710Z",
     "start_time": "2024-12-29T10:09:29.761833Z"
    }
   },
   "source": [
    "import pandas as pd\n",
    "import numpy as np\n",
    "from sklearn.preprocessing import MinMaxScaler"
   ],
   "outputs": [],
   "execution_count": 20
  },
  {
   "metadata": {
    "ExecuteTime": {
     "end_time": "2024-12-29T10:09:30.667876Z",
     "start_time": "2024-12-29T10:09:30.655Z"
    }
   },
   "cell_type": "code",
   "source": [
    "df = pd.read_csv('data/test.csv')\n",
    "train = pd.read_csv('data/train.csv')\n",
    "train['Embarked'] = train['Embarked'].replace({'C': 1, 'Q': 2, 'S': 3})\n",
    "example = pd.read_csv('data/gender_submission.csv')\n",
    "\n",
    "\n",
    "scaler = MinMaxScaler()\n",
    "train['Fare'] = scaler.fit_transform(train[['Fare']])"
   ],
   "id": "ed9813069733503c",
   "outputs": [
    {
     "name": "stderr",
     "output_type": "stream",
     "text": [
      "C:\\Users\\admin\\AppData\\Local\\Temp\\ipykernel_13904\\677219927.py:3: FutureWarning: Downcasting behavior in `replace` is deprecated and will be removed in a future version. To retain the old behavior, explicitly call `result.infer_objects(copy=False)`. To opt-in to the future behavior, set `pd.set_option('future.no_silent_downcasting', True)`\n",
      "  train['Embarked'] = train['Embarked'].replace({'C': 1, 'Q': 2, 'S': 3})\n"
     ]
    }
   ],
   "execution_count": 21
  },
  {
   "metadata": {
    "ExecuteTime": {
     "end_time": "2024-12-29T10:09:32.162577Z",
     "start_time": "2024-12-29T10:09:32.155341Z"
    }
   },
   "cell_type": "code",
   "source": "train.head()",
   "id": "a8942e000b1570bd",
   "outputs": [
    {
     "data": {
      "text/plain": [
       "   PassengerId  Survived  Pclass  \\\n",
       "0            1         0       3   \n",
       "1            2         1       1   \n",
       "2            3         1       3   \n",
       "3            4         1       1   \n",
       "4            5         0       3   \n",
       "\n",
       "                                                Name     Sex   Age  SibSp  \\\n",
       "0                            Braund, Mr. Owen Harris    male  22.0      1   \n",
       "1  Cumings, Mrs. John Bradley (Florence Briggs Th...  female  38.0      1   \n",
       "2                             Heikkinen, Miss. Laina  female  26.0      0   \n",
       "3       Futrelle, Mrs. Jacques Heath (Lily May Peel)  female  35.0      1   \n",
       "4                           Allen, Mr. William Henry    male  35.0      0   \n",
       "\n",
       "   Parch            Ticket      Fare Cabin  Embarked  \n",
       "0      0         A/5 21171  0.014151   NaN       3.0  \n",
       "1      0          PC 17599  0.139136   C85       1.0  \n",
       "2      0  STON/O2. 3101282  0.015469   NaN       3.0  \n",
       "3      0            113803  0.103644  C123       3.0  \n",
       "4      0            373450  0.015713   NaN       3.0  "
      ],
      "text/html": [
       "<div>\n",
       "<style scoped>\n",
       "    .dataframe tbody tr th:only-of-type {\n",
       "        vertical-align: middle;\n",
       "    }\n",
       "\n",
       "    .dataframe tbody tr th {\n",
       "        vertical-align: top;\n",
       "    }\n",
       "\n",
       "    .dataframe thead th {\n",
       "        text-align: right;\n",
       "    }\n",
       "</style>\n",
       "<table border=\"1\" class=\"dataframe\">\n",
       "  <thead>\n",
       "    <tr style=\"text-align: right;\">\n",
       "      <th></th>\n",
       "      <th>PassengerId</th>\n",
       "      <th>Survived</th>\n",
       "      <th>Pclass</th>\n",
       "      <th>Name</th>\n",
       "      <th>Sex</th>\n",
       "      <th>Age</th>\n",
       "      <th>SibSp</th>\n",
       "      <th>Parch</th>\n",
       "      <th>Ticket</th>\n",
       "      <th>Fare</th>\n",
       "      <th>Cabin</th>\n",
       "      <th>Embarked</th>\n",
       "    </tr>\n",
       "  </thead>\n",
       "  <tbody>\n",
       "    <tr>\n",
       "      <th>0</th>\n",
       "      <td>1</td>\n",
       "      <td>0</td>\n",
       "      <td>3</td>\n",
       "      <td>Braund, Mr. Owen Harris</td>\n",
       "      <td>male</td>\n",
       "      <td>22.0</td>\n",
       "      <td>1</td>\n",
       "      <td>0</td>\n",
       "      <td>A/5 21171</td>\n",
       "      <td>0.014151</td>\n",
       "      <td>NaN</td>\n",
       "      <td>3.0</td>\n",
       "    </tr>\n",
       "    <tr>\n",
       "      <th>1</th>\n",
       "      <td>2</td>\n",
       "      <td>1</td>\n",
       "      <td>1</td>\n",
       "      <td>Cumings, Mrs. John Bradley (Florence Briggs Th...</td>\n",
       "      <td>female</td>\n",
       "      <td>38.0</td>\n",
       "      <td>1</td>\n",
       "      <td>0</td>\n",
       "      <td>PC 17599</td>\n",
       "      <td>0.139136</td>\n",
       "      <td>C85</td>\n",
       "      <td>1.0</td>\n",
       "    </tr>\n",
       "    <tr>\n",
       "      <th>2</th>\n",
       "      <td>3</td>\n",
       "      <td>1</td>\n",
       "      <td>3</td>\n",
       "      <td>Heikkinen, Miss. Laina</td>\n",
       "      <td>female</td>\n",
       "      <td>26.0</td>\n",
       "      <td>0</td>\n",
       "      <td>0</td>\n",
       "      <td>STON/O2. 3101282</td>\n",
       "      <td>0.015469</td>\n",
       "      <td>NaN</td>\n",
       "      <td>3.0</td>\n",
       "    </tr>\n",
       "    <tr>\n",
       "      <th>3</th>\n",
       "      <td>4</td>\n",
       "      <td>1</td>\n",
       "      <td>1</td>\n",
       "      <td>Futrelle, Mrs. Jacques Heath (Lily May Peel)</td>\n",
       "      <td>female</td>\n",
       "      <td>35.0</td>\n",
       "      <td>1</td>\n",
       "      <td>0</td>\n",
       "      <td>113803</td>\n",
       "      <td>0.103644</td>\n",
       "      <td>C123</td>\n",
       "      <td>3.0</td>\n",
       "    </tr>\n",
       "    <tr>\n",
       "      <th>4</th>\n",
       "      <td>5</td>\n",
       "      <td>0</td>\n",
       "      <td>3</td>\n",
       "      <td>Allen, Mr. William Henry</td>\n",
       "      <td>male</td>\n",
       "      <td>35.0</td>\n",
       "      <td>0</td>\n",
       "      <td>0</td>\n",
       "      <td>373450</td>\n",
       "      <td>0.015713</td>\n",
       "      <td>NaN</td>\n",
       "      <td>3.0</td>\n",
       "    </tr>\n",
       "  </tbody>\n",
       "</table>\n",
       "</div>"
      ]
     },
     "execution_count": 22,
     "metadata": {},
     "output_type": "execute_result"
    }
   ],
   "execution_count": 22
  },
  {
   "metadata": {
    "ExecuteTime": {
     "end_time": "2024-12-29T10:01:20.214990Z",
     "start_time": "2024-12-29T10:01:20.210691Z"
    }
   },
   "cell_type": "code",
   "source": [
    "del train['Ticket']\n",
    "del train['Cabin']\n",
    "del train['Name']\n",
    "del train['PassengerId']"
   ],
   "id": "c0078fd6e7454751",
   "outputs": [],
   "execution_count": 16
  },
  {
   "metadata": {
    "ExecuteTime": {
     "end_time": "2024-12-29T09:55:01.541539Z",
     "start_time": "2024-12-29T09:55:01.535438Z"
    }
   },
   "cell_type": "code",
   "source": "train[train['Embarked'].isna()]",
   "id": "83dd99cfde2cec9b",
   "outputs": [
    {
     "data": {
      "text/plain": [
       "Empty DataFrame\n",
       "Columns: [PassengerId, Survived, Pclass, Name, Sex, Age, SibSp, Parch, Ticket, Fare, Cabin, Embarked]\n",
       "Index: []"
      ],
      "text/html": [
       "<div>\n",
       "<style scoped>\n",
       "    .dataframe tbody tr th:only-of-type {\n",
       "        vertical-align: middle;\n",
       "    }\n",
       "\n",
       "    .dataframe tbody tr th {\n",
       "        vertical-align: top;\n",
       "    }\n",
       "\n",
       "    .dataframe thead th {\n",
       "        text-align: right;\n",
       "    }\n",
       "</style>\n",
       "<table border=\"1\" class=\"dataframe\">\n",
       "  <thead>\n",
       "    <tr style=\"text-align: right;\">\n",
       "      <th></th>\n",
       "      <th>PassengerId</th>\n",
       "      <th>Survived</th>\n",
       "      <th>Pclass</th>\n",
       "      <th>Name</th>\n",
       "      <th>Sex</th>\n",
       "      <th>Age</th>\n",
       "      <th>SibSp</th>\n",
       "      <th>Parch</th>\n",
       "      <th>Ticket</th>\n",
       "      <th>Fare</th>\n",
       "      <th>Cabin</th>\n",
       "      <th>Embarked</th>\n",
       "    </tr>\n",
       "  </thead>\n",
       "  <tbody>\n",
       "  </tbody>\n",
       "</table>\n",
       "</div>"
      ]
     },
     "execution_count": 10,
     "metadata": {},
     "output_type": "execute_result"
    }
   ],
   "execution_count": 10
  },
  {
   "metadata": {
    "ExecuteTime": {
     "end_time": "2024-12-29T09:54:49.971309Z",
     "start_time": "2024-12-29T09:54:49.967473Z"
    }
   },
   "cell_type": "code",
   "source": "train['Embarked'].fillna(1, inplace=True)\n",
   "id": "1d793955311f3b7c",
   "outputs": [
    {
     "name": "stderr",
     "output_type": "stream",
     "text": [
      "C:\\Users\\admin\\AppData\\Local\\Temp\\ipykernel_13904\\1276412094.py:1: FutureWarning: A value is trying to be set on a copy of a DataFrame or Series through chained assignment using an inplace method.\n",
      "The behavior will change in pandas 3.0. This inplace method will never work because the intermediate object on which we are setting values always behaves as a copy.\n",
      "\n",
      "For example, when doing 'df[col].method(value, inplace=True)', try using 'df.method({col: value}, inplace=True)' or df[col] = df[col].method(value) instead, to perform the operation inplace on the original object.\n",
      "\n",
      "\n",
      "  train['Embarked'].fillna(1, inplace=True)\n"
     ]
    }
   ],
   "execution_count": 9
  },
  {
   "metadata": {
    "ExecuteTime": {
     "end_time": "2024-12-28T17:34:38.609532Z",
     "start_time": "2024-12-28T17:34:38.605055Z"
    }
   },
   "cell_type": "code",
   "source": "train[(train['Sex']=='male') & (train['Survived'] == 1)]['Age'].mean()",
   "id": "4667e72d17f0f5ad",
   "outputs": [
    {
     "data": {
      "text/plain": [
       "27.276021505376345"
      ]
     },
     "execution_count": 141,
     "metadata": {},
     "output_type": "execute_result"
    }
   ],
   "execution_count": 141
  },
  {
   "metadata": {
    "ExecuteTime": {
     "end_time": "2024-12-28T17:34:39.283910Z",
     "start_time": "2024-12-28T17:34:39.278467Z"
    }
   },
   "cell_type": "code",
   "source": [
    "male_df = train[train['Sex']== 'male']\n",
    "male_survied_class = male_df.groupby('Pclass')['Survived'].sum()\n",
    "male_survied_class"
   ],
   "id": "5372ab4d7e44db16",
   "outputs": [
    {
     "data": {
      "text/plain": [
       "Pclass\n",
       "1    45\n",
       "2    17\n",
       "3    47\n",
       "Name: Survived, dtype: int64"
      ]
     },
     "execution_count": 142,
     "metadata": {},
     "output_type": "execute_result"
    }
   ],
   "execution_count": 142
  },
  {
   "metadata": {
    "ExecuteTime": {
     "end_time": "2024-12-28T17:34:39.968602Z",
     "start_time": "2024-12-28T17:34:39.963091Z"
    }
   },
   "cell_type": "code",
   "source": [
    "female_df = train[train['Sex'] == 'female']\n",
    "female_survied_class = female_df.groupby('Pclass')['Survived'].sum()\n",
    "female_survied_class"
   ],
   "id": "c758be07fc170e5c",
   "outputs": [
    {
     "data": {
      "text/plain": [
       "Pclass\n",
       "1    91\n",
       "2    70\n",
       "3    72\n",
       "Name: Survived, dtype: int64"
      ]
     },
     "execution_count": 143,
     "metadata": {},
     "output_type": "execute_result"
    }
   ],
   "execution_count": 143
  },
  {
   "metadata": {
    "ExecuteTime": {
     "end_time": "2024-12-28T17:34:40.904816Z",
     "start_time": "2024-12-28T17:34:40.893470Z"
    }
   },
   "cell_type": "code",
   "source": [
    "female_pclass3_life = female_df[(female_df['Pclass']==3) & (female_df['Survived']==1)]\n",
    "del female_pclass3_life['Survived']\n",
    "del female_pclass3_life['Pclass']\n",
    "\n",
    "female_pclass3_life.describe()"
   ],
   "id": "21f01f0fdf56bec2",
   "outputs": [
    {
     "data": {
      "text/plain": [
       "             Age      SibSp      Parch       Fare   Embarked\n",
       "count  47.000000  72.000000  72.000000  72.000000  72.000000\n",
       "mean   19.329787   0.500000   0.500000  12.464526   2.250000\n",
       "std    12.303246   0.888106   0.919277   5.984714   0.782736\n",
       "min     0.750000   0.000000   0.000000   7.225000   1.000000\n",
       "25%    13.500000   0.000000   0.000000   7.750000   2.000000\n",
       "50%    19.000000   0.000000   0.000000   9.468750   2.000000\n",
       "75%    26.500000   1.000000   1.000000  15.912500   3.000000\n",
       "max    63.000000   4.000000   5.000000  31.387500   3.000000"
      ],
      "text/html": [
       "<div>\n",
       "<style scoped>\n",
       "    .dataframe tbody tr th:only-of-type {\n",
       "        vertical-align: middle;\n",
       "    }\n",
       "\n",
       "    .dataframe tbody tr th {\n",
       "        vertical-align: top;\n",
       "    }\n",
       "\n",
       "    .dataframe thead th {\n",
       "        text-align: right;\n",
       "    }\n",
       "</style>\n",
       "<table border=\"1\" class=\"dataframe\">\n",
       "  <thead>\n",
       "    <tr style=\"text-align: right;\">\n",
       "      <th></th>\n",
       "      <th>Age</th>\n",
       "      <th>SibSp</th>\n",
       "      <th>Parch</th>\n",
       "      <th>Fare</th>\n",
       "      <th>Embarked</th>\n",
       "    </tr>\n",
       "  </thead>\n",
       "  <tbody>\n",
       "    <tr>\n",
       "      <th>count</th>\n",
       "      <td>47.000000</td>\n",
       "      <td>72.000000</td>\n",
       "      <td>72.000000</td>\n",
       "      <td>72.000000</td>\n",
       "      <td>72.000000</td>\n",
       "    </tr>\n",
       "    <tr>\n",
       "      <th>mean</th>\n",
       "      <td>19.329787</td>\n",
       "      <td>0.500000</td>\n",
       "      <td>0.500000</td>\n",
       "      <td>12.464526</td>\n",
       "      <td>2.250000</td>\n",
       "    </tr>\n",
       "    <tr>\n",
       "      <th>std</th>\n",
       "      <td>12.303246</td>\n",
       "      <td>0.888106</td>\n",
       "      <td>0.919277</td>\n",
       "      <td>5.984714</td>\n",
       "      <td>0.782736</td>\n",
       "    </tr>\n",
       "    <tr>\n",
       "      <th>min</th>\n",
       "      <td>0.750000</td>\n",
       "      <td>0.000000</td>\n",
       "      <td>0.000000</td>\n",
       "      <td>7.225000</td>\n",
       "      <td>1.000000</td>\n",
       "    </tr>\n",
       "    <tr>\n",
       "      <th>25%</th>\n",
       "      <td>13.500000</td>\n",
       "      <td>0.000000</td>\n",
       "      <td>0.000000</td>\n",
       "      <td>7.750000</td>\n",
       "      <td>2.000000</td>\n",
       "    </tr>\n",
       "    <tr>\n",
       "      <th>50%</th>\n",
       "      <td>19.000000</td>\n",
       "      <td>0.000000</td>\n",
       "      <td>0.000000</td>\n",
       "      <td>9.468750</td>\n",
       "      <td>2.000000</td>\n",
       "    </tr>\n",
       "    <tr>\n",
       "      <th>75%</th>\n",
       "      <td>26.500000</td>\n",
       "      <td>1.000000</td>\n",
       "      <td>1.000000</td>\n",
       "      <td>15.912500</td>\n",
       "      <td>3.000000</td>\n",
       "    </tr>\n",
       "    <tr>\n",
       "      <th>max</th>\n",
       "      <td>63.000000</td>\n",
       "      <td>4.000000</td>\n",
       "      <td>5.000000</td>\n",
       "      <td>31.387500</td>\n",
       "      <td>3.000000</td>\n",
       "    </tr>\n",
       "  </tbody>\n",
       "</table>\n",
       "</div>"
      ]
     },
     "execution_count": 144,
     "metadata": {},
     "output_type": "execute_result"
    }
   ],
   "execution_count": 144
  },
  {
   "metadata": {
    "ExecuteTime": {
     "end_time": "2024-12-28T17:34:41.455523Z",
     "start_time": "2024-12-28T17:34:41.442764Z"
    }
   },
   "cell_type": "code",
   "source": [
    "female_pclass3_dead = female_df[(female_df['Pclass']==3) & (female_df['Survived']==0)]\n",
    "\n",
    "del female_pclass3_dead['Survived']\n",
    "del female_pclass3_dead['Pclass']\n",
    "\n",
    "female_pclass3_dead.describe()"
   ],
   "id": "750114418d723c37",
   "outputs": [
    {
     "data": {
      "text/plain": [
       "             Age      SibSp      Parch       Fare   Embarked\n",
       "count  55.000000  72.000000  72.000000  72.000000  72.000000\n",
       "mean   23.818182   1.291667   1.097222  19.773093   2.652778\n",
       "std    12.833465   1.902093   1.435562  14.572275   0.674688\n",
       "min     2.000000   0.000000   0.000000   6.750000   1.000000\n",
       "25%    15.250000   0.000000   0.000000   8.531250   3.000000\n",
       "50%    22.000000   1.000000   1.000000  14.479150   3.000000\n",
       "75%    31.000000   1.250000   2.000000  26.075025   3.000000\n",
       "max    48.000000   8.000000   6.000000  69.550000   3.000000"
      ],
      "text/html": [
       "<div>\n",
       "<style scoped>\n",
       "    .dataframe tbody tr th:only-of-type {\n",
       "        vertical-align: middle;\n",
       "    }\n",
       "\n",
       "    .dataframe tbody tr th {\n",
       "        vertical-align: top;\n",
       "    }\n",
       "\n",
       "    .dataframe thead th {\n",
       "        text-align: right;\n",
       "    }\n",
       "</style>\n",
       "<table border=\"1\" class=\"dataframe\">\n",
       "  <thead>\n",
       "    <tr style=\"text-align: right;\">\n",
       "      <th></th>\n",
       "      <th>Age</th>\n",
       "      <th>SibSp</th>\n",
       "      <th>Parch</th>\n",
       "      <th>Fare</th>\n",
       "      <th>Embarked</th>\n",
       "    </tr>\n",
       "  </thead>\n",
       "  <tbody>\n",
       "    <tr>\n",
       "      <th>count</th>\n",
       "      <td>55.000000</td>\n",
       "      <td>72.000000</td>\n",
       "      <td>72.000000</td>\n",
       "      <td>72.000000</td>\n",
       "      <td>72.000000</td>\n",
       "    </tr>\n",
       "    <tr>\n",
       "      <th>mean</th>\n",
       "      <td>23.818182</td>\n",
       "      <td>1.291667</td>\n",
       "      <td>1.097222</td>\n",
       "      <td>19.773093</td>\n",
       "      <td>2.652778</td>\n",
       "    </tr>\n",
       "    <tr>\n",
       "      <th>std</th>\n",
       "      <td>12.833465</td>\n",
       "      <td>1.902093</td>\n",
       "      <td>1.435562</td>\n",
       "      <td>14.572275</td>\n",
       "      <td>0.674688</td>\n",
       "    </tr>\n",
       "    <tr>\n",
       "      <th>min</th>\n",
       "      <td>2.000000</td>\n",
       "      <td>0.000000</td>\n",
       "      <td>0.000000</td>\n",
       "      <td>6.750000</td>\n",
       "      <td>1.000000</td>\n",
       "    </tr>\n",
       "    <tr>\n",
       "      <th>25%</th>\n",
       "      <td>15.250000</td>\n",
       "      <td>0.000000</td>\n",
       "      <td>0.000000</td>\n",
       "      <td>8.531250</td>\n",
       "      <td>3.000000</td>\n",
       "    </tr>\n",
       "    <tr>\n",
       "      <th>50%</th>\n",
       "      <td>22.000000</td>\n",
       "      <td>1.000000</td>\n",
       "      <td>1.000000</td>\n",
       "      <td>14.479150</td>\n",
       "      <td>3.000000</td>\n",
       "    </tr>\n",
       "    <tr>\n",
       "      <th>75%</th>\n",
       "      <td>31.000000</td>\n",
       "      <td>1.250000</td>\n",
       "      <td>2.000000</td>\n",
       "      <td>26.075025</td>\n",
       "      <td>3.000000</td>\n",
       "    </tr>\n",
       "    <tr>\n",
       "      <th>max</th>\n",
       "      <td>48.000000</td>\n",
       "      <td>8.000000</td>\n",
       "      <td>6.000000</td>\n",
       "      <td>69.550000</td>\n",
       "      <td>3.000000</td>\n",
       "    </tr>\n",
       "  </tbody>\n",
       "</table>\n",
       "</div>"
      ]
     },
     "execution_count": 145,
     "metadata": {},
     "output_type": "execute_result"
    }
   ],
   "execution_count": 145
  },
  {
   "metadata": {
    "ExecuteTime": {
     "end_time": "2024-12-28T17:34:42.087637Z",
     "start_time": "2024-12-28T17:34:42.082735Z"
    }
   },
   "cell_type": "code",
   "source": "female_pclass3_dead[female_pclass3_dead[\"Embarked\"] == 3].count()",
   "id": "f27c847c05e53102",
   "outputs": [
    {
     "data": {
      "text/plain": [
       "Sex         55\n",
       "Age         45\n",
       "SibSp       55\n",
       "Parch       55\n",
       "Fare        55\n",
       "Embarked    55\n",
       "dtype: int64"
      ]
     },
     "execution_count": 146,
     "metadata": {},
     "output_type": "execute_result"
    }
   ],
   "execution_count": 146
  },
  {
   "metadata": {
    "ExecuteTime": {
     "end_time": "2024-12-28T17:45:54.562230Z",
     "start_time": "2024-12-28T17:45:54.558162Z"
    }
   },
   "cell_type": "code",
   "source": [
    "male_df\n",
    "male_life = male_df[male_df['Survived'] == 1]\n",
    "male_dead = male_df[male_df['Survived'] == 0]\n"
   ],
   "id": "f44a9866530b9aa",
   "outputs": [],
   "execution_count": 149
  },
  {
   "metadata": {
    "ExecuteTime": {
     "end_time": "2024-12-28T17:45:56.393594Z",
     "start_time": "2024-12-28T17:45:56.381078Z"
    }
   },
   "cell_type": "code",
   "source": "male_dead.describe()",
   "id": "5cd73e227eaacfb9",
   "outputs": [
    {
     "data": {
      "text/plain": [
       "       Survived      Pclass         Age       SibSp       Parch        Fare  \\\n",
       "count     468.0  468.000000  360.000000  468.000000  468.000000  468.000000   \n",
       "mean        0.0    2.476496   31.618056    0.440171    0.207265   21.960993   \n",
       "std         0.0    0.761411   14.056019    1.138507    0.601382   32.409799   \n",
       "min         0.0    1.000000    1.000000    0.000000    0.000000    0.000000   \n",
       "25%         0.0    2.000000   21.750000    0.000000    0.000000    7.795800   \n",
       "50%         0.0    3.000000   29.000000    0.000000    0.000000    9.416650   \n",
       "75%         0.0    3.000000   39.250000    0.000000    0.000000   26.000000   \n",
       "max         0.0    3.000000   74.000000    8.000000    5.000000  263.000000   \n",
       "\n",
       "         Embarked  \n",
       "count  468.000000  \n",
       "mean     2.636752  \n",
       "std      0.717251  \n",
       "min      1.000000  \n",
       "25%      3.000000  \n",
       "50%      3.000000  \n",
       "75%      3.000000  \n",
       "max      3.000000  "
      ],
      "text/html": [
       "<div>\n",
       "<style scoped>\n",
       "    .dataframe tbody tr th:only-of-type {\n",
       "        vertical-align: middle;\n",
       "    }\n",
       "\n",
       "    .dataframe tbody tr th {\n",
       "        vertical-align: top;\n",
       "    }\n",
       "\n",
       "    .dataframe thead th {\n",
       "        text-align: right;\n",
       "    }\n",
       "</style>\n",
       "<table border=\"1\" class=\"dataframe\">\n",
       "  <thead>\n",
       "    <tr style=\"text-align: right;\">\n",
       "      <th></th>\n",
       "      <th>Survived</th>\n",
       "      <th>Pclass</th>\n",
       "      <th>Age</th>\n",
       "      <th>SibSp</th>\n",
       "      <th>Parch</th>\n",
       "      <th>Fare</th>\n",
       "      <th>Embarked</th>\n",
       "    </tr>\n",
       "  </thead>\n",
       "  <tbody>\n",
       "    <tr>\n",
       "      <th>count</th>\n",
       "      <td>468.0</td>\n",
       "      <td>468.000000</td>\n",
       "      <td>360.000000</td>\n",
       "      <td>468.000000</td>\n",
       "      <td>468.000000</td>\n",
       "      <td>468.000000</td>\n",
       "      <td>468.000000</td>\n",
       "    </tr>\n",
       "    <tr>\n",
       "      <th>mean</th>\n",
       "      <td>0.0</td>\n",
       "      <td>2.476496</td>\n",
       "      <td>31.618056</td>\n",
       "      <td>0.440171</td>\n",
       "      <td>0.207265</td>\n",
       "      <td>21.960993</td>\n",
       "      <td>2.636752</td>\n",
       "    </tr>\n",
       "    <tr>\n",
       "      <th>std</th>\n",
       "      <td>0.0</td>\n",
       "      <td>0.761411</td>\n",
       "      <td>14.056019</td>\n",
       "      <td>1.138507</td>\n",
       "      <td>0.601382</td>\n",
       "      <td>32.409799</td>\n",
       "      <td>0.717251</td>\n",
       "    </tr>\n",
       "    <tr>\n",
       "      <th>min</th>\n",
       "      <td>0.0</td>\n",
       "      <td>1.000000</td>\n",
       "      <td>1.000000</td>\n",
       "      <td>0.000000</td>\n",
       "      <td>0.000000</td>\n",
       "      <td>0.000000</td>\n",
       "      <td>1.000000</td>\n",
       "    </tr>\n",
       "    <tr>\n",
       "      <th>25%</th>\n",
       "      <td>0.0</td>\n",
       "      <td>2.000000</td>\n",
       "      <td>21.750000</td>\n",
       "      <td>0.000000</td>\n",
       "      <td>0.000000</td>\n",
       "      <td>7.795800</td>\n",
       "      <td>3.000000</td>\n",
       "    </tr>\n",
       "    <tr>\n",
       "      <th>50%</th>\n",
       "      <td>0.0</td>\n",
       "      <td>3.000000</td>\n",
       "      <td>29.000000</td>\n",
       "      <td>0.000000</td>\n",
       "      <td>0.000000</td>\n",
       "      <td>9.416650</td>\n",
       "      <td>3.000000</td>\n",
       "    </tr>\n",
       "    <tr>\n",
       "      <th>75%</th>\n",
       "      <td>0.0</td>\n",
       "      <td>3.000000</td>\n",
       "      <td>39.250000</td>\n",
       "      <td>0.000000</td>\n",
       "      <td>0.000000</td>\n",
       "      <td>26.000000</td>\n",
       "      <td>3.000000</td>\n",
       "    </tr>\n",
       "    <tr>\n",
       "      <th>max</th>\n",
       "      <td>0.0</td>\n",
       "      <td>3.000000</td>\n",
       "      <td>74.000000</td>\n",
       "      <td>8.000000</td>\n",
       "      <td>5.000000</td>\n",
       "      <td>263.000000</td>\n",
       "      <td>3.000000</td>\n",
       "    </tr>\n",
       "  </tbody>\n",
       "</table>\n",
       "</div>"
      ]
     },
     "execution_count": 150,
     "metadata": {},
     "output_type": "execute_result"
    }
   ],
   "execution_count": 150
  },
  {
   "metadata": {
    "ExecuteTime": {
     "end_time": "2024-12-28T17:46:30.475923Z",
     "start_time": "2024-12-28T17:46:30.462Z"
    }
   },
   "cell_type": "code",
   "source": "male_life.describe()",
   "id": "452bfc949f4a7d9b",
   "outputs": [
    {
     "data": {
      "text/plain": [
       "       Survived      Pclass        Age       SibSp       Parch        Fare  \\\n",
       "count     109.0  109.000000  93.000000  109.000000  109.000000  109.000000   \n",
       "mean        1.0    2.018349  27.276022    0.385321    0.357798   40.821484   \n",
       "std         0.0    0.922774  16.504803    0.636952    0.645826   71.355967   \n",
       "min         1.0    1.000000   0.420000    0.000000    0.000000    0.000000   \n",
       "25%         1.0    1.000000  18.000000    0.000000    0.000000    9.500000   \n",
       "50%         1.0    2.000000  28.000000    0.000000    0.000000   26.287500   \n",
       "75%         1.0    3.000000  36.000000    1.000000    1.000000   39.000000   \n",
       "max         1.0    3.000000  80.000000    4.000000    2.000000  512.329200   \n",
       "\n",
       "         Embarked  \n",
       "count  109.000000  \n",
       "mean     2.440367  \n",
       "std      0.886433  \n",
       "min      1.000000  \n",
       "25%      1.000000  \n",
       "50%      3.000000  \n",
       "75%      3.000000  \n",
       "max      3.000000  "
      ],
      "text/html": [
       "<div>\n",
       "<style scoped>\n",
       "    .dataframe tbody tr th:only-of-type {\n",
       "        vertical-align: middle;\n",
       "    }\n",
       "\n",
       "    .dataframe tbody tr th {\n",
       "        vertical-align: top;\n",
       "    }\n",
       "\n",
       "    .dataframe thead th {\n",
       "        text-align: right;\n",
       "    }\n",
       "</style>\n",
       "<table border=\"1\" class=\"dataframe\">\n",
       "  <thead>\n",
       "    <tr style=\"text-align: right;\">\n",
       "      <th></th>\n",
       "      <th>Survived</th>\n",
       "      <th>Pclass</th>\n",
       "      <th>Age</th>\n",
       "      <th>SibSp</th>\n",
       "      <th>Parch</th>\n",
       "      <th>Fare</th>\n",
       "      <th>Embarked</th>\n",
       "    </tr>\n",
       "  </thead>\n",
       "  <tbody>\n",
       "    <tr>\n",
       "      <th>count</th>\n",
       "      <td>109.0</td>\n",
       "      <td>109.000000</td>\n",
       "      <td>93.000000</td>\n",
       "      <td>109.000000</td>\n",
       "      <td>109.000000</td>\n",
       "      <td>109.000000</td>\n",
       "      <td>109.000000</td>\n",
       "    </tr>\n",
       "    <tr>\n",
       "      <th>mean</th>\n",
       "      <td>1.0</td>\n",
       "      <td>2.018349</td>\n",
       "      <td>27.276022</td>\n",
       "      <td>0.385321</td>\n",
       "      <td>0.357798</td>\n",
       "      <td>40.821484</td>\n",
       "      <td>2.440367</td>\n",
       "    </tr>\n",
       "    <tr>\n",
       "      <th>std</th>\n",
       "      <td>0.0</td>\n",
       "      <td>0.922774</td>\n",
       "      <td>16.504803</td>\n",
       "      <td>0.636952</td>\n",
       "      <td>0.645826</td>\n",
       "      <td>71.355967</td>\n",
       "      <td>0.886433</td>\n",
       "    </tr>\n",
       "    <tr>\n",
       "      <th>min</th>\n",
       "      <td>1.0</td>\n",
       "      <td>1.000000</td>\n",
       "      <td>0.420000</td>\n",
       "      <td>0.000000</td>\n",
       "      <td>0.000000</td>\n",
       "      <td>0.000000</td>\n",
       "      <td>1.000000</td>\n",
       "    </tr>\n",
       "    <tr>\n",
       "      <th>25%</th>\n",
       "      <td>1.0</td>\n",
       "      <td>1.000000</td>\n",
       "      <td>18.000000</td>\n",
       "      <td>0.000000</td>\n",
       "      <td>0.000000</td>\n",
       "      <td>9.500000</td>\n",
       "      <td>1.000000</td>\n",
       "    </tr>\n",
       "    <tr>\n",
       "      <th>50%</th>\n",
       "      <td>1.0</td>\n",
       "      <td>2.000000</td>\n",
       "      <td>28.000000</td>\n",
       "      <td>0.000000</td>\n",
       "      <td>0.000000</td>\n",
       "      <td>26.287500</td>\n",
       "      <td>3.000000</td>\n",
       "    </tr>\n",
       "    <tr>\n",
       "      <th>75%</th>\n",
       "      <td>1.0</td>\n",
       "      <td>3.000000</td>\n",
       "      <td>36.000000</td>\n",
       "      <td>1.000000</td>\n",
       "      <td>1.000000</td>\n",
       "      <td>39.000000</td>\n",
       "      <td>3.000000</td>\n",
       "    </tr>\n",
       "    <tr>\n",
       "      <th>max</th>\n",
       "      <td>1.0</td>\n",
       "      <td>3.000000</td>\n",
       "      <td>80.000000</td>\n",
       "      <td>4.000000</td>\n",
       "      <td>2.000000</td>\n",
       "      <td>512.329200</td>\n",
       "      <td>3.000000</td>\n",
       "    </tr>\n",
       "  </tbody>\n",
       "</table>\n",
       "</div>"
      ]
     },
     "execution_count": 151,
     "metadata": {},
     "output_type": "execute_result"
    }
   ],
   "execution_count": 151
  },
  {
   "metadata": {
    "ExecuteTime": {
     "end_time": "2024-12-28T17:49:51.868504Z",
     "start_time": "2024-12-28T17:49:51.864322Z"
    }
   },
   "cell_type": "code",
   "source": "male_life[male_life['SibSp'] > 263].count()",
   "id": "b46e5a3db34a69f6",
   "outputs": [
    {
     "data": {
      "text/plain": [
       "Survived    107\n",
       "Pclass      107\n",
       "Sex         107\n",
       "Age          91\n",
       "SibSp       107\n",
       "Parch       107\n",
       "Fare        107\n",
       "Embarked    107\n",
       "dtype: int64"
      ]
     },
     "execution_count": 153,
     "metadata": {},
     "output_type": "execute_result"
    }
   ],
   "execution_count": 153
  },
  {
   "metadata": {
    "ExecuteTime": {
     "end_time": "2024-12-28T17:55:11.620257Z",
     "start_time": "2024-12-28T17:55:11.613616Z"
    }
   },
   "cell_type": "code",
   "source": "male_dead.groupby('Embarked').count()",
   "id": "cf8c27fa11108581",
   "outputs": [
    {
     "data": {
      "text/plain": [
       "          Survived  Pclass  Sex  Age  SibSp  Parch  Fare\n",
       "Embarked                                                \n",
       "1.0             66      66   66   45     66     66    66\n",
       "2.0             38      38   38   15     38     38    38\n",
       "3.0            364     364  364  300    364    364   364"
      ],
      "text/html": [
       "<div>\n",
       "<style scoped>\n",
       "    .dataframe tbody tr th:only-of-type {\n",
       "        vertical-align: middle;\n",
       "    }\n",
       "\n",
       "    .dataframe tbody tr th {\n",
       "        vertical-align: top;\n",
       "    }\n",
       "\n",
       "    .dataframe thead th {\n",
       "        text-align: right;\n",
       "    }\n",
       "</style>\n",
       "<table border=\"1\" class=\"dataframe\">\n",
       "  <thead>\n",
       "    <tr style=\"text-align: right;\">\n",
       "      <th></th>\n",
       "      <th>Survived</th>\n",
       "      <th>Pclass</th>\n",
       "      <th>Sex</th>\n",
       "      <th>Age</th>\n",
       "      <th>SibSp</th>\n",
       "      <th>Parch</th>\n",
       "      <th>Fare</th>\n",
       "    </tr>\n",
       "    <tr>\n",
       "      <th>Embarked</th>\n",
       "      <th></th>\n",
       "      <th></th>\n",
       "      <th></th>\n",
       "      <th></th>\n",
       "      <th></th>\n",
       "      <th></th>\n",
       "      <th></th>\n",
       "    </tr>\n",
       "  </thead>\n",
       "  <tbody>\n",
       "    <tr>\n",
       "      <th>1.0</th>\n",
       "      <td>66</td>\n",
       "      <td>66</td>\n",
       "      <td>66</td>\n",
       "      <td>45</td>\n",
       "      <td>66</td>\n",
       "      <td>66</td>\n",
       "      <td>66</td>\n",
       "    </tr>\n",
       "    <tr>\n",
       "      <th>2.0</th>\n",
       "      <td>38</td>\n",
       "      <td>38</td>\n",
       "      <td>38</td>\n",
       "      <td>15</td>\n",
       "      <td>38</td>\n",
       "      <td>38</td>\n",
       "      <td>38</td>\n",
       "    </tr>\n",
       "    <tr>\n",
       "      <th>3.0</th>\n",
       "      <td>364</td>\n",
       "      <td>364</td>\n",
       "      <td>364</td>\n",
       "      <td>300</td>\n",
       "      <td>364</td>\n",
       "      <td>364</td>\n",
       "      <td>364</td>\n",
       "    </tr>\n",
       "  </tbody>\n",
       "</table>\n",
       "</div>"
      ]
     },
     "execution_count": 158,
     "metadata": {},
     "output_type": "execute_result"
    }
   ],
   "execution_count": 158
  },
  {
   "metadata": {},
   "cell_type": "code",
   "outputs": [],
   "execution_count": null,
   "source": "",
   "id": "5ac90cbaabc5dd26"
  }
 ],
 "metadata": {
  "kernelspec": {
   "display_name": "Python 3",
   "language": "python",
   "name": "python3"
  },
  "language_info": {
   "codemirror_mode": {
    "name": "ipython",
    "version": 2
   },
   "file_extension": ".py",
   "mimetype": "text/x-python",
   "name": "python",
   "nbconvert_exporter": "python",
   "pygments_lexer": "ipython2",
   "version": "2.7.6"
  }
 },
 "nbformat": 4,
 "nbformat_minor": 5
}

{
 "cells": [
  {
   "cell_type": "code",
   "id": "initial_id",
   "metadata": {
    "collapsed": true,
    "ExecuteTime": {
     "end_time": "2024-12-29T15:14:59.260825Z",
     "start_time": "2024-12-29T15:14:59.256307Z"
    }
   },
   "source": [
    "import pandas as pd\n",
    "import numpy as np\n",
    "import torch\n",
    "import torch.nn as nn\n",
    "from torch.utils.data import Dataset, DataLoader, random_split\n",
    "from tqdm import tqdm\n",
    "import matplotlib.pyplot as plt\n",
    "from torch.optim.lr_scheduler import StepLR\n",
    "from sklearn.preprocessing import MinMaxScaler\n",
    "import shap"
   ],
   "outputs": [],
   "execution_count": 396
  },
  {
   "metadata": {
    "ExecuteTime": {
     "end_time": "2024-12-29T15:23:49.045783Z",
     "start_time": "2024-12-29T15:23:49.040879Z"
    }
   },
   "cell_type": "code",
   "source": [
    "class Dataset(Dataset):\n",
    "    def __init__(self):\n",
    "        test = pd.read_csv('data/train.csv')\n",
    "        del test['Ticket']\n",
    "        del test['Cabin']\n",
    "        del test['Name']\n",
    "        \n",
    "        # del test['Age']\n",
    "        # del test['SibSp']\n",
    "        # del test['Parch']\n",
    "        # del test['Embarked']\n",
    "        # del test['Pclass']\n",
    "        # del test['Fare']\n",
    "        \n",
    "        \n",
    "        scaler = MinMaxScaler()\n",
    "        test['Fare'] = scaler.fit_transform(test[['Fare']])   \n",
    "        test['Sex'] = test['Sex'].map({\"male\": 0, \"female\": 1.0}).astype(float)\n",
    "        test['Age'] = test['Age'].fillna(value=test['Age'].median())\n",
    "        test['Age'] = scaler.fit_transform(test[['Age']])   \n",
    "        test['Embarked'] = test['Embarked'].fillna(0.1)\n",
    "        test['Embarked'] = test['Embarked'].replace({'C': 0.1, 'Q': 0.5, 'S': 1.0}).astype(float)\n",
    "        \n",
    "        test['SibSp'] = scaler.fit_transform(test[['SibSp']])\n",
    "        test['Pclass'] = scaler.fit_transform(test[['Pclass']])\n",
    "        test['Parch'] = scaler.fit_transform(test[['Parch']])\n",
    "        self.data = test\n",
    "    def __len__(self):\n",
    "        return len(self.data)\n",
    "    def __getitem__(self,index):\n",
    "        target = self.data.iloc[index].tolist()[1]\n",
    "        sample = self.data.iloc[index].tolist()[2:]\n",
    "        \n",
    "        target = torch.tensor(target)\n",
    "        sample = torch.tensor(sample)\n",
    "        return target, sample"
   ],
   "id": "d6c71cf0403aec42",
   "outputs": [],
   "execution_count": 426
  },
  {
   "metadata": {
    "ExecuteTime": {
     "end_time": "2024-12-29T15:23:49.570135Z",
     "start_time": "2024-12-29T15:23:49.553219Z"
    }
   },
   "cell_type": "code",
   "source": [
    "data = Dataset()\n",
    "data[13]"
   ],
   "id": "9d4dac3b9dfa592c",
   "outputs": [
    {
     "name": "stderr",
     "output_type": "stream",
     "text": [
      "C:\\Users\\admin\\AppData\\Local\\Temp\\ipykernel_14804\\3839632294.py:22: FutureWarning: Downcasting behavior in `replace` is deprecated and will be removed in a future version. To retain the old behavior, explicitly call `result.infer_objects(copy=False)`. To opt-in to the future behavior, set `pd.set_option('future.no_silent_downcasting', True)`\n",
      "  test['Embarked'] = test['Embarked'].replace({'C': 0.1, 'Q': 0.5, 'S': 1.0}).astype(float)\n"
     ]
    },
    {
     "data": {
      "text/plain": [
       "(tensor(0.), tensor([1.0000, 0.0000, 0.4848, 0.1250, 0.8333, 0.0610, 1.0000]))"
      ]
     },
     "execution_count": 427,
     "metadata": {},
     "output_type": "execute_result"
    }
   ],
   "execution_count": 427
  },
  {
   "metadata": {
    "ExecuteTime": {
     "end_time": "2024-12-29T15:23:53.108898Z",
     "start_time": "2024-12-29T15:23:53.096017Z"
    }
   },
   "cell_type": "code",
   "source": [
    "data = Dataset()\n",
    "train_set, val_set= random_split(data,[0.85,0.15])\n",
    "train_loader = DataLoader(train_set,batch_size = 8, shuffle= True)\n",
    "val_loader = DataLoader(val_set,batch_size = 8, shuffle= False)"
   ],
   "id": "14242a5bb141d188",
   "outputs": [
    {
     "name": "stderr",
     "output_type": "stream",
     "text": [
      "C:\\Users\\admin\\AppData\\Local\\Temp\\ipykernel_14804\\3839632294.py:22: FutureWarning: Downcasting behavior in `replace` is deprecated and will be removed in a future version. To retain the old behavior, explicitly call `result.infer_objects(copy=False)`. To opt-in to the future behavior, set `pd.set_option('future.no_silent_downcasting', True)`\n",
      "  test['Embarked'] = test['Embarked'].replace({'C': 0.1, 'Q': 0.5, 'S': 1.0}).astype(float)\n"
     ]
    }
   ],
   "execution_count": 428
  },
  {
   "metadata": {
    "ExecuteTime": {
     "end_time": "2024-12-29T15:23:54.383380Z",
     "start_time": "2024-12-29T15:23:54.378379Z"
    }
   },
   "cell_type": "code",
   "source": [
    "model = nn.Sequential(\n",
    "    nn.Linear(7, 32),\n",
    "    nn.Sigmoid(),\n",
    "    nn.Linear(32, 64),\n",
    "    nn.Sigmoid(),\n",
    "    nn.Linear(64, 128),\n",
    "    nn.Sigmoid(),\n",
    "    nn.Dropout(0.5),\n",
    "    nn.Linear(128, 64),\n",
    "    nn.Sigmoid(),\n",
    "    nn.Linear(64, 32),\n",
    "    nn.Sigmoid(),\n",
    "    nn.Linear(32, 1),\n",
    "    \n",
    ")\n",
    "\n",
    "\n",
    "train_loss = []\n",
    "val_loss = []\n",
    "accuracy_train =[]\n",
    "accuracy_val =[]\n",
    "lr = 0.001\n",
    "load = False\n",
    "\n",
    "if load:\n",
    "    weights = torch.load('model/model1.pt', weights_only=True)\n",
    "    model.load_state_dict(weights)\n",
    "\n",
    "loss_fn = nn.BCEWithLogitsLoss()\n",
    "optimizer = torch.optim.Adam(model.parameters(), lr = lr)\n",
    "# scheduler = StepLR(optimizer, step_size=100, gamma=0.5) \n",
    "\n"
   ],
   "id": "7438ba6f9bcee1c9",
   "outputs": [],
   "execution_count": 429
  },
  {
   "metadata": {
    "ExecuteTime": {
     "end_time": "2024-12-29T15:24:25.087355Z",
     "start_time": "2024-12-29T15:24:21.129097Z"
    }
   },
   "cell_type": "code",
   "source": [
    "for param_group in optimizer.param_groups:\n",
    "            param_group['lr'] = 0.0001\n",
    "for i in range(15):\n",
    "    model.train()\n",
    "    \n",
    "    train_loop = tqdm(train_loader,leave=True)\n",
    "    correct = 0 \n",
    "    total = 0\n",
    "    mean_loss = []\n",
    "    \n",
    "    for target, x in train_loop:\n",
    "        x = x.float()\n",
    "        target = target.unsqueeze(1)\n",
    "        pred = model(x)\n",
    "        loss = loss_fn(pred,target)\n",
    "        optimizer.zero_grad()\n",
    "        loss.backward()\n",
    "        optimizer.step()\n",
    "        \n",
    "        mean_loss.append(loss.item())\n",
    "        train_loop.set_description(f\"Epohs:{i} loss: {loss.item():.4f}\")\n",
    "        \n",
    "    train_loss.append(sum(mean_loss) / len(mean_loss))\n",
    "    mean_loss =[]\n",
    "    with torch.no_grad():\n",
    "        model.eval()\n",
    "        \n",
    "        val_loop = tqdm(val_loader,leave=True)\n",
    "        for target, x in val_loop:\n",
    "            x = x.float()\n",
    "            target = target.unsqueeze(1)\n",
    "            pred = model(x)\n",
    "            loss = loss_fn(pred,target)\n",
    "            mean_loss.append(loss.item())\n",
    "            val_loop.set_description(f\"Epohs:{i} loss: {loss.item():.4f}\")\n",
    "    \n",
    "    val_loss.append(sum(mean_loss) / len(mean_loss))\n",
    "    # scheduler.step()\n",
    "    "
   ],
   "id": "361ff5362111e7ed",
   "outputs": [
    {
     "name": "stderr",
     "output_type": "stream",
     "text": [
      "Epohs:0 loss: 0.4105: 100%|██████████| 95/95 [00:00<00:00, 399.61it/s]\n",
      "Epohs:0 loss: 0.4848: 100%|██████████| 17/17 [00:00<00:00, 595.30it/s]\n",
      "Epohs:1 loss: 0.6902: 100%|██████████| 95/95 [00:00<00:00, 335.60it/s]\n",
      "Epohs:1 loss: 0.4852: 100%|██████████| 17/17 [00:00<00:00, 622.25it/s]\n",
      "Epohs:2 loss: 0.5456: 100%|██████████| 95/95 [00:00<00:00, 414.42it/s]\n",
      "Epohs:2 loss: 0.4844: 100%|██████████| 17/17 [00:00<00:00, 692.57it/s]\n",
      "Epohs:3 loss: 0.1667: 100%|██████████| 95/95 [00:00<00:00, 400.12it/s]\n",
      "Epohs:3 loss: 0.4855: 100%|██████████| 17/17 [00:00<00:00, 771.89it/s]\n",
      "Epohs:4 loss: 0.4020: 100%|██████████| 95/95 [00:00<00:00, 403.76it/s]\n",
      "Epohs:4 loss: 0.4860: 100%|██████████| 17/17 [00:00<00:00, 576.74it/s]\n",
      "Epohs:5 loss: 0.2050: 100%|██████████| 95/95 [00:00<00:00, 429.91it/s]\n",
      "Epohs:5 loss: 0.4865: 100%|██████████| 17/17 [00:00<00:00, 627.18it/s]\n",
      "Epohs:6 loss: 0.6718: 100%|██████████| 95/95 [00:00<00:00, 417.77it/s]\n",
      "Epohs:6 loss: 0.4853: 100%|██████████| 17/17 [00:00<00:00, 679.21it/s]\n",
      "Epohs:7 loss: 0.9088: 100%|██████████| 95/95 [00:00<00:00, 410.95it/s]\n",
      "Epohs:7 loss: 0.4839: 100%|██████████| 17/17 [00:00<00:00, 691.72it/s]\n",
      "Epohs:8 loss: 0.1167: 100%|██████████| 95/95 [00:00<00:00, 403.54it/s]\n",
      "Epohs:8 loss: 0.4831: 100%|██████████| 17/17 [00:00<00:00, 707.68it/s]\n",
      "Epohs:9 loss: 0.2691: 100%|██████████| 95/95 [00:00<00:00, 401.80it/s]\n",
      "Epohs:9 loss: 0.4839: 100%|██████████| 17/17 [00:00<00:00, 665.48it/s]\n",
      "Epohs:10 loss: 0.6309: 100%|██████████| 95/95 [00:00<00:00, 409.60it/s]\n",
      "Epohs:10 loss: 0.4841: 100%|██████████| 17/17 [00:00<00:00, 630.38it/s]\n",
      "Epohs:11 loss: 0.4638: 100%|██████████| 95/95 [00:00<00:00, 411.61it/s]\n",
      "Epohs:11 loss: 0.4851: 100%|██████████| 17/17 [00:00<00:00, 692.67it/s]\n",
      "Epohs:12 loss: 0.4179: 100%|██████████| 95/95 [00:00<00:00, 420.71it/s]\n",
      "Epohs:12 loss: 0.4840: 100%|██████████| 17/17 [00:00<00:00, 685.14it/s]\n",
      "Epohs:13 loss: 0.7445: 100%|██████████| 95/95 [00:00<00:00, 411.81it/s]\n",
      "Epohs:13 loss: 0.4833: 100%|██████████| 17/17 [00:00<00:00, 698.00it/s]\n",
      "Epohs:14 loss: 0.5026: 100%|██████████| 95/95 [00:00<00:00, 411.10it/s]\n",
      "Epohs:14 loss: 0.4834: 100%|██████████| 17/17 [00:00<00:00, 708.66it/s]\n"
     ]
    }
   ],
   "execution_count": 433
  },
  {
   "metadata": {
    "ExecuteTime": {
     "end_time": "2024-12-29T15:24:25.959706Z",
     "start_time": "2024-12-29T15:24:25.880630Z"
    }
   },
   "cell_type": "code",
   "source": [
    "# Построение графика\n",
    "plt.plot(train_loss, label='Train Loss', color='blue')  # Синим график обучающих потерь\n",
    "plt.plot(val_loss, label='Validation Loss', color='red')   # Отображаем график потерь\n",
    "plt.xlabel('Epoch')  # Подпись оси X (например, эпохи)\n",
    "plt.ylabel('Loss')  # Подпись оси Y (значения потерь)\n",
    "plt.title('Loss over Epochs')  # Заголовок графика\n",
    "plt.legend()  # Легенда\n",
    "plt.grid(True)  # Включение сетки\n",
    "plt.show() "
   ],
   "id": "af129e0735c91a68",
   "outputs": [
    {
     "data": {
      "text/plain": [
       "<Figure size 640x480 with 1 Axes>"
      ],
      "image/png": "[encoded data removed]"
     },
     "metadata": {},
     "output_type": "display_data"
    }
   ],
   "execution_count": 434
  },
  {
   "metadata": {
    "ExecuteTime": {
     "end_time": "2024-12-29T15:24:29.925205Z",
     "start_time": "2024-12-29T15:24:29.800557Z"
    }
   },
   "cell_type": "code",
   "source": [
    "data1 = Dataset()\n",
    "model.eval()  \n",
    "\n",
    "    \n",
    "total = len(data)\n",
    "corect = 0\n",
    "with torch.no_grad(): \n",
    "    for target, x in data1:\n",
    "        out = model(x)\n",
    "        out = torch.clamp(out, 0, 1)\n",
    "        if out.item() == target.item():\n",
    "            corect += 1\n",
    "\n",
    "accuracy = (corect / total) * 100\n",
    "print(f\"correct: {corect} / {total}\")\n",
    "print(f\"accuracy {accuracy}\")\n"
   ],
   "id": "3841c9a06e30faf6",
   "outputs": [
    {
     "name": "stdout",
     "output_type": "stream",
     "text": [
      "correct: 701 / 891\n",
      "accuracy 78.67564534231201\n"
     ]
    },
    {
     "name": "stderr",
     "output_type": "stream",
     "text": [
      "C:\\Users\\admin\\AppData\\Local\\Temp\\ipykernel_14804\\3839632294.py:22: FutureWarning: Downcasting behavior in `replace` is deprecated and will be removed in a future version. To retain the old behavior, explicitly call `result.infer_objects(copy=False)`. To opt-in to the future behavior, set `pd.set_option('future.no_silent_downcasting', True)`\n",
      "  test['Embarked'] = test['Embarked'].replace({'C': 0.1, 'Q': 0.5, 'S': 1.0}).astype(float)\n"
     ]
    }
   ],
   "execution_count": 435
  },
  {
   "metadata": {
    "ExecuteTime": {
     "end_time": "2024-12-29T11:14:19.370573Z",
     "start_time": "2024-12-29T11:14:19.345039Z"
    }
   },
   "cell_type": "code",
   "source": [
    "\n",
    "\n",
    "target, X_train = data1[0]\n",
    "model.eval() \n",
    "with torch.no_grad(): \n",
    "    predictions = model(X_train) \n",
    "X_train = X_train.numpy()\n",
    "explainer = shap.KernelExplainer(predictions, X_train)\n",
    "# Получение значений SHAP\n",
    "shap_values = explainer.shap_values(X_train)\n",
    "# Построение графика\n",
    "shap.summary_plot(shap_values, X_train)"
   ],
   "id": "9eb72352abde6d0",
   "outputs": [
    {
     "ename": "IndexError",
     "evalue": "tuple index out of range",
     "output_type": "error",
     "traceback": [
      "\u001B[1;31m---------------------------------------------------------------------------\u001B[0m",
      "\u001B[1;31mIndexError\u001B[0m                                Traceback (most recent call last)",
      "Cell \u001B[1;32mIn[238], line 6\u001B[0m\n\u001B[0;32m      4\u001B[0m     predictions \u001B[38;5;241m=\u001B[39m model(X_train) \n\u001B[0;32m      5\u001B[0m X_train \u001B[38;5;241m=\u001B[39m X_train\u001B[38;5;241m.\u001B[39mnumpy()\n\u001B[1;32m----> 6\u001B[0m explainer \u001B[38;5;241m=\u001B[39m \u001B[43mshap\u001B[49m\u001B[38;5;241;43m.\u001B[39;49m\u001B[43mKernelExplainer\u001B[49m\u001B[43m(\u001B[49m\u001B[43mpredictions\u001B[49m\u001B[43m,\u001B[49m\u001B[43m \u001B[49m\u001B[43mX_train\u001B[49m\u001B[43m)\u001B[49m\n\u001B[0;32m      7\u001B[0m \u001B[38;5;66;03m# Получение значений SHAP\u001B[39;00m\n\u001B[0;32m      8\u001B[0m shap_values \u001B[38;5;241m=\u001B[39m explainer\u001B[38;5;241m.\u001B[39mshap_values(X_train)\n",
      "File \u001B[1;32m~\\PycharmProjects\\train_ii\\.venv\\Lib\\site-packages\\shap\\explainers\\_kernel.py:96\u001B[0m, in \u001B[0;36mKernelExplainer.__init__\u001B[1;34m(self, model, data, feature_names, link, **kwargs)\u001B[0m\n\u001B[0;32m     94\u001B[0m \u001B[38;5;28mself\u001B[39m\u001B[38;5;241m.\u001B[39mkeep_index_ordered \u001B[38;5;241m=\u001B[39m kwargs\u001B[38;5;241m.\u001B[39mget(\u001B[38;5;124m\"\u001B[39m\u001B[38;5;124mkeep_index_ordered\u001B[39m\u001B[38;5;124m\"\u001B[39m, \u001B[38;5;28;01mFalse\u001B[39;00m)\n\u001B[0;32m     95\u001B[0m \u001B[38;5;28mself\u001B[39m\u001B[38;5;241m.\u001B[39mmodel \u001B[38;5;241m=\u001B[39m convert_to_model(model, keep_index\u001B[38;5;241m=\u001B[39m\u001B[38;5;28mself\u001B[39m\u001B[38;5;241m.\u001B[39mkeep_index)\n\u001B[1;32m---> 96\u001B[0m \u001B[38;5;28mself\u001B[39m\u001B[38;5;241m.\u001B[39mdata \u001B[38;5;241m=\u001B[39m \u001B[43mconvert_to_data\u001B[49m\u001B[43m(\u001B[49m\u001B[43mdata\u001B[49m\u001B[43m,\u001B[49m\u001B[43m \u001B[49m\u001B[43mkeep_index\u001B[49m\u001B[38;5;241;43m=\u001B[39;49m\u001B[38;5;28;43mself\u001B[39;49m\u001B[38;5;241;43m.\u001B[39;49m\u001B[43mkeep_index\u001B[49m\u001B[43m)\u001B[49m\n\u001B[0;32m     97\u001B[0m model_null \u001B[38;5;241m=\u001B[39m match_model_to_data(\u001B[38;5;28mself\u001B[39m\u001B[38;5;241m.\u001B[39mmodel, \u001B[38;5;28mself\u001B[39m\u001B[38;5;241m.\u001B[39mdata)\n\u001B[0;32m     99\u001B[0m \u001B[38;5;66;03m# enforce our current input type limitations\u001B[39;00m\n",
      "File \u001B[1;32m~\\PycharmProjects\\train_ii\\.venv\\Lib\\site-packages\\shap\\utils\\_legacy.py:216\u001B[0m, in \u001B[0;36mconvert_to_data\u001B[1;34m(val, keep_index)\u001B[0m\n\u001B[0;32m    214\u001B[0m     \u001B[38;5;28;01mreturn\u001B[39;00m val\n\u001B[0;32m    215\u001B[0m \u001B[38;5;28;01mif\u001B[39;00m \u001B[38;5;28misinstance\u001B[39m(val, np\u001B[38;5;241m.\u001B[39mndarray):\n\u001B[1;32m--> 216\u001B[0m     \u001B[38;5;28;01mreturn\u001B[39;00m DenseData(val, [\u001B[38;5;28mstr\u001B[39m(i) \u001B[38;5;28;01mfor\u001B[39;00m i \u001B[38;5;129;01min\u001B[39;00m \u001B[38;5;28mrange\u001B[39m(\u001B[43mval\u001B[49m\u001B[38;5;241;43m.\u001B[39;49m\u001B[43mshape\u001B[49m\u001B[43m[\u001B[49m\u001B[38;5;241;43m1\u001B[39;49m\u001B[43m]\u001B[49m)])\n\u001B[0;32m    217\u001B[0m \u001B[38;5;28;01mif\u001B[39;00m \u001B[38;5;28misinstance\u001B[39m(val, pd\u001B[38;5;241m.\u001B[39mSeries):\n\u001B[0;32m    218\u001B[0m     \u001B[38;5;28;01mreturn\u001B[39;00m DenseData(val\u001B[38;5;241m.\u001B[39mvalues\u001B[38;5;241m.\u001B[39mreshape((\u001B[38;5;241m1\u001B[39m,\u001B[38;5;28mlen\u001B[39m(val))), \u001B[38;5;28mlist\u001B[39m(val\u001B[38;5;241m.\u001B[39mindex))\n",
      "\u001B[1;31mIndexError\u001B[0m: tuple index out of range"
     ]
    }
   ],
   "execution_count": 238
  },
  {
   "metadata": {
    "ExecuteTime": {
     "end_time": "2024-12-28T08:37:09.610717Z",
     "start_time": "2024-12-28T08:37:09.606440Z"
    }
   },
   "cell_type": "code",
   "source": "torch.save(model.state_dict(), 'model/model1.pt')",
   "id": "a373d780d8c624e8",
   "outputs": [],
   "execution_count": 173
  },
  {
   "metadata": {},
   "cell_type": "code",
   "outputs": [],
   "execution_count": null,
   "source": [
    "class testData(Dataset):\n",
    "    def __init__(self):\n",
    "        test = pd.read_csv('data/test.csv')\n",
    "        del test['Ticket']\n",
    "        del test['Fare']\n",
    "        del test['Cabin']\n",
    "        del test['Name']\n",
    "        del test['Embarked']\n",
    "        test['Sex'] = test['Sex'].map({\"male\": 0, \"female\": 1}).astype(np.int8)\n",
    "        test['Age'] = test['Age'].fillna(value=test['Age'].median())\n",
    "        self.data = test\n",
    "    def __len__(self):\n",
    "        return len(self.data)\n",
    "    def __getitem__(self,index):\n",
    "        target = self.data.iloc[index].tolist()[1]\n",
    "        sample = self.data.iloc[index].tolist()[2:]\n",
    "        \n",
    "        target = torch.tensor(target)\n",
    "        sample = torch.tensor(sample)\n",
    "        return target, sample"
   ],
   "id": "9fedfe19247adaf0"
  },
  {
   "metadata": {
    "ExecuteTime": {
     "end_time": "2024-12-28T10:59:53.654131Z",
     "start_time": "2024-12-28T10:59:53.648625Z"
    }
   },
   "cell_type": "code",
   "source": "data1[0]",
   "id": "77089099c14ea6b3",
   "outputs": [
    {
     "data": {
      "text/plain": [
       "(tensor(0.), tensor([ 3.,  0., 22.,  1.,  0.]))"
      ]
     },
     "execution_count": 176,
     "metadata": {},
     "output_type": "execute_result"
    }
   ],
   "execution_count": 176
  },
  {
   "metadata": {},
   "cell_type": "code",
   "outputs": [],
   "execution_count": null,
   "source": [
    "result = []\n",
    "\n",
    "for idx in range(len(df)):\n",
    "    x = torch.tensor(df.iloc[idx].tolist()[1:])\n",
    "    out = model(x)\n",
    "    out = int(torch.clamp(out, 0, 1).item())\n",
    "    id = int(df.iloc[idx].tolist()[0])\n",
    "    result.append([id, out])\n",
    "\n",
    "result_df = pd.DataFrame(result, columns=[\"PassengerId\", \"Survived\"])"
   ],
   "id": "72a7ef573b3876e8"
  }
 ],
 "metadata": {
  "kernelspec": {
   "display_name": "Python 3",
   "language": "python",
   "name": "python3"
  },
  "language_info": {
   "codemirror_mode": {
    "name": "ipython",
    "version": 2
   },
   "file_extension": ".py",
   "mimetype": "text/x-python",
   "name": "python",
   "nbconvert_exporter": "python",
   "pygments_lexer": "ipython2",
   "version": "2.7.6"
  }
 },
 "nbformat": 4,
 "nbformat_minor": 5
}

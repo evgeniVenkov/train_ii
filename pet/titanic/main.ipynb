{
 "cells": [
  {
   "cell_type": "code",
   "id": "initial_id",
   "metadata": {
    "collapsed": true,
    "ExecuteTime": {
     "end_time": "2024-12-28T08:01:24.061067Z",
     "start_time": "2024-12-28T08:01:24.058064Z"
    }
   },
   "source": [
    "import pandas as pd\n",
    "import numpy as np\n",
    "import torch\n",
    "import torch.nn as nn\n",
    "from torch.utils.data import Dataset, DataLoader, random_split\n",
    "from tqdm import tqdm\n",
    "import matplotlib.pyplot as plt\n",
    "from torch.optim.lr_scheduler import StepLR"
   ],
   "outputs": [],
   "execution_count": 90
  },
  {
   "metadata": {
    "ExecuteTime": {
     "end_time": "2024-12-28T08:24:04.128873Z",
     "start_time": "2024-12-28T08:24:04.124529Z"
    }
   },
   "cell_type": "code",
   "source": [
    "class Dataset(Dataset):\n",
    "    def __init__(self):\n",
    "        test = pd.read_csv('data/train.csv')\n",
    "        del test['Ticket']\n",
    "        del test['Fare']\n",
    "        del test['Cabin']\n",
    "        del test['Name']\n",
    "        del test['Embarked']\n",
    "        test['Sex'] = test['Sex'].map({\"male\": 0, \"female\": 1}).astype(np.int8)\n",
    "        test['Age'] = test['Age'].fillna(value=test['Age'].median())\n",
    "        self.data = test\n",
    "    def __len__(self):\n",
    "        return len(self.data)\n",
    "    def __getitem__(self,index):\n",
    "        target = self.data.iloc[index].tolist()[1]\n",
    "        sample = self.data.iloc[index].tolist()[2:]\n",
    "        \n",
    "        target = torch.tensor(target)\n",
    "        sample = torch.tensor(sample)\n",
    "        return target, sample"
   ],
   "id": "d6c71cf0403aec42",
   "outputs": [],
   "execution_count": 130
  },
  {
   "metadata": {
    "ExecuteTime": {
     "end_time": "2024-12-28T08:24:06.443476Z",
     "start_time": "2024-12-28T08:24:06.435502Z"
    }
   },
   "cell_type": "code",
   "source": [
    "data = Dataset()\n",
    "train_set, val_set= random_split(data,[0.9,0.1])\n",
    "train_loader = DataLoader(train_set,batch_size = 8, shuffle= True)\n",
    "val_loader = DataLoader(val_set,batch_size = 8, shuffle= False)"
   ],
   "id": "14242a5bb141d188",
   "outputs": [],
   "execution_count": 131
  },
  {
   "metadata": {
    "ExecuteTime": {
     "end_time": "2024-12-28T08:44:16.891118Z",
     "start_time": "2024-12-28T08:44:16.884951Z"
    }
   },
   "cell_type": "code",
   "source": [
    "model = nn.Sequential(\n",
    "    nn.Linear(5, 128),\n",
    "    nn.ReLU(),\n",
    "    nn.Linear(128, 256),\n",
    "    nn.ReLU(),\n",
    "    nn.Linear(256, 128),\n",
    "    nn.ReLU(),\n",
    "    nn.Linear(128, 64),\n",
    "    nn.ReLU(),\n",
    "    nn.Linear(64, 1),\n",
    "    \n",
    ")\n",
    "\n",
    "\n",
    "train_loss = []\n",
    "val_loss = []\n",
    "accuracy_train =[]\n",
    "accuracy_val =[]\n",
    "lr = 0.005\n",
    "load = True\n",
    "\n",
    "if load:\n",
    "    weights = torch.load('model/model1.pt', weights_only=True)\n",
    "    model.load_state_dict(weights)\n",
    "\n",
    "loss_fn = nn.BCEWithLogitsLoss()\n",
    "optimizer = torch.optim.Adam(model.parameters(), lr = lr)\n",
    "# scheduler = StepLR(optimizer, step_size=100, gamma=0.5) \n",
    "\n"
   ],
   "id": "7438ba6f9bcee1c9",
   "outputs": [],
   "execution_count": 174
  },
  {
   "metadata": {
    "ExecuteTime": {
     "end_time": "2024-12-28T08:34:01.629902Z",
     "start_time": "2024-12-28T08:34:00.188366Z"
    }
   },
   "cell_type": "code",
   "source": [
    "\n",
    "for i in range(5):\n",
    "    model.train()\n",
    "    \n",
    "    train_loop = tqdm(train_loader,leave=True)\n",
    "    correct = 0 \n",
    "    total = 0\n",
    "    mean_loss = []\n",
    "    \n",
    "    for target, x in train_loop:\n",
    "        \n",
    "        target = target.unsqueeze(1)\n",
    "        pred = model(x)\n",
    "        loss = loss_fn(pred,target)\n",
    "        optimizer.zero_grad()\n",
    "        loss.backward()\n",
    "        optimizer.step()\n",
    "        \n",
    "        mean_loss.append(loss.item())\n",
    "        train_loop.set_description(f\"Epohs:{i} loss: {loss.item():.4f}\")\n",
    "        \n",
    "    train_loss.append(sum(mean_loss) / len(mean_loss))\n",
    "    mean_loss =[]\n",
    "    with torch.no_grad():\n",
    "        model.eval()\n",
    "        val_loop = tqdm(val_loader,leave=True)\n",
    "        for target, x in val_loop:\n",
    "            \n",
    "            target = target.unsqueeze(1)\n",
    "            pred = model(x)\n",
    "            loss = loss_fn(pred,target)\n",
    "            mean_loss.append(loss.item())\n",
    "            val_loop.set_description(f\"Epohs:{i} loss: {loss.item():.4f}\")\n",
    "    \n",
    "    val_loss.append(sum(mean_loss) / len(mean_loss))\n",
    "    # scheduler.step()\n",
    "    "
   ],
   "id": "361ff5362111e7ed",
   "outputs": [
    {
     "name": "stderr",
     "output_type": "stream",
     "text": [
      "Epohs:0 loss: 0.4253: 100%|██████████| 101/101 [00:00<00:00, 338.32it/s]\n",
      "Epohs:0 loss: 0.0851: 100%|██████████| 12/12 [00:00<00:00, 704.76it/s]\n",
      "Epohs:1 loss: 0.3477: 100%|██████████| 101/101 [00:00<00:00, 366.59it/s]\n",
      "Epohs:1 loss: 0.1568: 100%|██████████| 12/12 [00:00<00:00, 647.69it/s]\n",
      "Epohs:2 loss: 0.1618: 100%|██████████| 101/101 [00:00<00:00, 388.45it/s]\n",
      "Epohs:2 loss: 0.1573: 100%|██████████| 12/12 [00:00<00:00, 827.07it/s]\n",
      "Epohs:3 loss: 0.3145: 100%|██████████| 101/101 [00:00<00:00, 408.10it/s]\n",
      "Epohs:3 loss: 0.0605: 100%|██████████| 12/12 [00:00<00:00, 748.23it/s]\n",
      "Epohs:4 loss: 0.9389: 100%|██████████| 101/101 [00:00<00:00, 397.19it/s]\n",
      "Epohs:4 loss: 0.0774: 100%|██████████| 12/12 [00:00<00:00, 726.49it/s]\n"
     ]
    }
   ],
   "execution_count": 170
  },
  {
   "metadata": {
    "ExecuteTime": {
     "end_time": "2024-12-28T08:34:02.352311Z",
     "start_time": "2024-12-28T08:34:02.264167Z"
    }
   },
   "cell_type": "code",
   "source": [
    "# Построение графика\n",
    "plt.plot(train_loss, label='Train Loss', color='blue')  # Синим график обучающих потерь\n",
    "plt.plot(val_loss, label='Validation Loss', color='red')   # Отображаем график потерь\n",
    "plt.xlabel('Epoch')  # Подпись оси X (например, эпохи)\n",
    "plt.ylabel('Loss')  # Подпись оси Y (значения потерь)\n",
    "plt.title('Loss over Epochs')  # Заголовок графика\n",
    "plt.legend()  # Легенда\n",
    "plt.grid(True)  # Включение сетки\n",
    "plt.show() "
   ],
   "id": "af129e0735c91a68",
   "outputs": [
    {
     "data": {
      "text/plain": [
       "<Figure size 640x480 with 1 Axes>"
      ],
      "image/png": "[encoded data removed]"
     },
     "metadata": {},
     "output_type": "display_data"
    }
   ],
   "execution_count": 171
  },
  {
   "metadata": {
    "ExecuteTime": {
     "end_time": "2024-12-28T08:44:23.669904Z",
     "start_time": "2024-12-28T08:44:23.497889Z"
    }
   },
   "cell_type": "code",
   "source": [
    "data1 = Dataset()\n",
    "\n",
    "total = len(data)\n",
    "corect = 0\n",
    "for target, x in data1:\n",
    "    out = model(x)\n",
    "    out = torch.clamp(out, 0, 1)\n",
    "    if out.item() == target.item():\n",
    "        corect += 1\n",
    "\n",
    "accuracy = (corect / total) * 100\n",
    "print(f\"correct: {corect} / {total}\")\n",
    "print(f\"accuracy {accuracy}\")\n"
   ],
   "id": "3841c9a06e30faf6",
   "outputs": [
    {
     "name": "stdout",
     "output_type": "stream",
     "text": [
      "correct: 712 / 891\n",
      "accuracy 79.91021324354658\n"
     ]
    }
   ],
   "execution_count": 175
  },
  {
   "metadata": {
    "ExecuteTime": {
     "end_time": "2024-12-28T08:37:09.610717Z",
     "start_time": "2024-12-28T08:37:09.606440Z"
    }
   },
   "cell_type": "code",
   "source": "torch.save(model.state_dict(), 'model/model1.pt')",
   "id": "a373d780d8c624e8",
   "outputs": [],
   "execution_count": 173
  },
  {
   "metadata": {},
   "cell_type": "code",
   "outputs": [],
   "execution_count": null,
   "source": [
    "class testData(Dataset):\n",
    "    def __init__(self):\n",
    "        test = pd.read_csv('data/test.csv')\n",
    "        del test['Ticket']\n",
    "        del test['Fare']\n",
    "        del test['Cabin']\n",
    "        del test['Name']\n",
    "        del test['Embarked']\n",
    "        test['Sex'] = test['Sex'].map({\"male\": 0, \"female\": 1}).astype(np.int8)\n",
    "        test['Age'] = test['Age'].fillna(value=test['Age'].median())\n",
    "        self.data = test\n",
    "    def __len__(self):\n",
    "        return len(self.data)\n",
    "    def __getitem__(self,index):\n",
    "        target = self.data.iloc[index].tolist()[1]\n",
    "        sample = self.data.iloc[index].tolist()[2:]\n",
    "        \n",
    "        target = torch.tensor(target)\n",
    "        sample = torch.tensor(sample)\n",
    "        return target, sample"
   ],
   "id": "9fedfe19247adaf0"
  },
  {
   "metadata": {
    "ExecuteTime": {
     "end_time": "2024-12-28T10:59:53.654131Z",
     "start_time": "2024-12-28T10:59:53.648625Z"
    }
   },
   "cell_type": "code",
   "source": "data1[0]",
   "id": "77089099c14ea6b3",
   "outputs": [
    {
     "data": {
      "text/plain": [
       "(tensor(0.), tensor([ 3.,  0., 22.,  1.,  0.]))"
      ]
     },
     "execution_count": 176,
     "metadata": {},
     "output_type": "execute_result"
    }
   ],
   "execution_count": 176
  },
  {
   "metadata": {},
   "cell_type": "code",
   "outputs": [],
   "execution_count": null,
   "source": "",
   "id": "72a7ef573b3876e8"
  }
 ],
 "metadata": {
  "kernelspec": {
   "display_name": "Python 3",
   "language": "python",
   "name": "python3"
  },
  "language_info": {
   "codemirror_mode": {
    "name": "ipython",
    "version": 2
   },
   "file_extension": ".py",
   "mimetype": "text/x-python",
   "name": "python",
   "nbconvert_exporter": "python",
   "pygments_lexer": "ipython2",
   "version": "2.7.6"
  }
 },
 "nbformat": 4,
 "nbformat_minor": 5
}

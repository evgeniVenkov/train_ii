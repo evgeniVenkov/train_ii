{
 "cells": [
  {
   "cell_type": "code",
   "id": "initial_id",
   "metadata": {
    "collapsed": true,
    "ExecuteTime": {
     "end_time": "2024-12-29T14:14:23.959486Z",
     "start_time": "2024-12-29T14:14:23.956469Z"
    }
   },
   "source": [
    "import xgboost as xgb\n",
    "from sklearn.model_selection import train_test_split\n",
    "from sklearn.metrics import accuracy_score\n",
    "import pandas as pd\n",
    "import numpy as np\n",
    "import random"
   ],
   "outputs": [],
   "execution_count": 60
  },
  {
   "metadata": {
    "ExecuteTime": {
     "end_time": "2024-12-29T14:33:00.923972Z",
     "start_time": "2024-12-29T14:33:00.819614Z"
    }
   },
   "cell_type": "code",
   "source": [
    "train = pd.read_csv('data/train.csv')\n",
    "\n",
    "del train['Ticket']\n",
    "del train['Cabin']\n",
    "del train['Name']\n",
    "del train['Fare']\n",
    "train['Sex'] = train['Sex'].map({\"male\": 0, \"female\": 1}).astype(np.int8)\n",
    "train['Age'] = train['Age'].fillna(value=train['Age'].median())\n",
    "train['Embarked'] = train['Embarked'].fillna(0.1)\n",
    "train['Embarked'] = train['Embarked'].replace({'C': 1, 'Q': 2, 'S': 3}).astype(float)\n",
    "correct = 0\n",
    "\n",
    "\n",
    "\n",
    "for i in range(len(train)):\n",
    "    y = train.iloc[i]['Survived']\n",
    "    x = train.iloc[i][2:]\n",
    "    \n",
    "    if x[1] == 1:\n",
    "        if x[0] == 1 or x[0] == 2:\n",
    "            z = 1\n",
    "        else:\n",
    "            if x[5] == 3:\n",
    "                z = 0\n",
    "            else:\n",
    "                z = 1\n",
    "    else:\n",
    "        if x[5] == 2:\n",
    "            z = 0\n",
    "        elif x[5] == 1:\n",
    "            z = 1 if random.random() < 0.3 else 0\n",
    "        else:\n",
    "            z = 0 if random.random() < 0.89 else 1\n",
    "    \n",
    "    if y == z:\n",
    "        correct += 1\n",
    "print(correct/len(train))\n"
   ],
   "id": "324d551d26cbded4",
   "outputs": [
    {
     "name": "stdout",
     "output_type": "stream",
     "text": [
      "0.7732884399551067\n"
     ]
    },
    {
     "name": "stderr",
     "output_type": "stream",
     "text": [
      "C:\\Users\\admin\\AppData\\Local\\Temp\\ipykernel_13972\\1350099660.py:10: FutureWarning: Downcasting behavior in `replace` is deprecated and will be removed in a future version. To retain the old behavior, explicitly call `result.infer_objects(copy=False)`. To opt-in to the future behavior, set `pd.set_option('future.no_silent_downcasting', True)`\n",
      "  train['Embarked'] = train['Embarked'].replace({'C': 1, 'Q': 2, 'S': 3}).astype(float)\n",
      "C:\\Users\\admin\\AppData\\Local\\Temp\\ipykernel_13972\\1350099660.py:19: FutureWarning: Series.__getitem__ treating keys as positions is deprecated. In a future version, integer keys will always be treated as labels (consistent with DataFrame behavior). To access a value by position, use `ser.iloc[pos]`\n",
      "  if x[1] == 1:\n",
      "C:\\Users\\admin\\AppData\\Local\\Temp\\ipykernel_13972\\1350099660.py:28: FutureWarning: Series.__getitem__ treating keys as positions is deprecated. In a future version, integer keys will always be treated as labels (consistent with DataFrame behavior). To access a value by position, use `ser.iloc[pos]`\n",
      "  if x[5] == 2:\n",
      "C:\\Users\\admin\\AppData\\Local\\Temp\\ipykernel_13972\\1350099660.py:30: FutureWarning: Series.__getitem__ treating keys as positions is deprecated. In a future version, integer keys will always be treated as labels (consistent with DataFrame behavior). To access a value by position, use `ser.iloc[pos]`\n",
      "  elif x[5] == 1:\n",
      "C:\\Users\\admin\\AppData\\Local\\Temp\\ipykernel_13972\\1350099660.py:20: FutureWarning: Series.__getitem__ treating keys as positions is deprecated. In a future version, integer keys will always be treated as labels (consistent with DataFrame behavior). To access a value by position, use `ser.iloc[pos]`\n",
      "  if x[0] == 1 or x[0] == 2:\n",
      "C:\\Users\\admin\\AppData\\Local\\Temp\\ipykernel_13972\\1350099660.py:23: FutureWarning: Series.__getitem__ treating keys as positions is deprecated. In a future version, integer keys will always be treated as labels (consistent with DataFrame behavior). To access a value by position, use `ser.iloc[pos]`\n",
      "  if x[5] == 3:\n"
     ]
    }
   ],
   "execution_count": 97
  },
  {
   "metadata": {
    "ExecuteTime": {
     "end_time": "2024-12-29T15:16:46.178403Z",
     "start_time": "2024-12-29T15:16:46.168563Z"
    }
   },
   "cell_type": "code",
   "source": "train.head(20)\n",
   "id": "c75b13c057c0bcc7",
   "outputs": [
    {
     "data": {
      "text/plain": [
       "    PassengerId  Survived  Pclass  Sex   Age  SibSp  Parch  Embarked\n",
       "0             1         0       3    0  22.0      1      0       3.0\n",
       "1             2         1       1    1  38.0      1      0       1.0\n",
       "2             3         1       3    1  26.0      0      0       3.0\n",
       "3             4         1       1    1  35.0      1      0       3.0\n",
       "4             5         0       3    0  35.0      0      0       3.0\n",
       "5             6         0       3    0  28.0      0      0       2.0\n",
       "6             7         0       1    0  54.0      0      0       3.0\n",
       "7             8         0       3    0   2.0      3      1       3.0\n",
       "8             9         1       3    1  27.0      0      2       3.0\n",
       "9            10         1       2    1  14.0      1      0       1.0\n",
       "10           11         1       3    1   4.0      1      1       3.0\n",
       "11           12         1       1    1  58.0      0      0       3.0\n",
       "12           13         0       3    0  20.0      0      0       3.0\n",
       "13           14         0       3    0  39.0      1      5       3.0\n",
       "14           15         0       3    1  14.0      0      0       3.0\n",
       "15           16         1       2    1  55.0      0      0       3.0\n",
       "16           17         0       3    0   2.0      4      1       2.0\n",
       "17           18         1       2    0  28.0      0      0       3.0\n",
       "18           19         0       3    1  31.0      1      0       3.0\n",
       "19           20         1       3    1  28.0      0      0       1.0"
      ],
      "text/html": [
       "<div>\n",
       "<style scoped>\n",
       "    .dataframe tbody tr th:only-of-type {\n",
       "        vertical-align: middle;\n",
       "    }\n",
       "\n",
       "    .dataframe tbody tr th {\n",
       "        vertical-align: top;\n",
       "    }\n",
       "\n",
       "    .dataframe thead th {\n",
       "        text-align: right;\n",
       "    }\n",
       "</style>\n",
       "<table border=\"1\" class=\"dataframe\">\n",
       "  <thead>\n",
       "    <tr style=\"text-align: right;\">\n",
       "      <th></th>\n",
       "      <th>PassengerId</th>\n",
       "      <th>Survived</th>\n",
       "      <th>Pclass</th>\n",
       "      <th>Sex</th>\n",
       "      <th>Age</th>\n",
       "      <th>SibSp</th>\n",
       "      <th>Parch</th>\n",
       "      <th>Embarked</th>\n",
       "    </tr>\n",
       "  </thead>\n",
       "  <tbody>\n",
       "    <tr>\n",
       "      <th>0</th>\n",
       "      <td>1</td>\n",
       "      <td>0</td>\n",
       "      <td>3</td>\n",
       "      <td>0</td>\n",
       "      <td>22.0</td>\n",
       "      <td>1</td>\n",
       "      <td>0</td>\n",
       "      <td>3.0</td>\n",
       "    </tr>\n",
       "    <tr>\n",
       "      <th>1</th>\n",
       "      <td>2</td>\n",
       "      <td>1</td>\n",
       "      <td>1</td>\n",
       "      <td>1</td>\n",
       "      <td>38.0</td>\n",
       "      <td>1</td>\n",
       "      <td>0</td>\n",
       "      <td>1.0</td>\n",
       "    </tr>\n",
       "    <tr>\n",
       "      <th>2</th>\n",
       "      <td>3</td>\n",
       "      <td>1</td>\n",
       "      <td>3</td>\n",
       "      <td>1</td>\n",
       "      <td>26.0</td>\n",
       "      <td>0</td>\n",
       "      <td>0</td>\n",
       "      <td>3.0</td>\n",
       "    </tr>\n",
       "    <tr>\n",
       "      <th>3</th>\n",
       "      <td>4</td>\n",
       "      <td>1</td>\n",
       "      <td>1</td>\n",
       "      <td>1</td>\n",
       "      <td>35.0</td>\n",
       "      <td>1</td>\n",
       "      <td>0</td>\n",
       "      <td>3.0</td>\n",
       "    </tr>\n",
       "    <tr>\n",
       "      <th>4</th>\n",
       "      <td>5</td>\n",
       "      <td>0</td>\n",
       "      <td>3</td>\n",
       "      <td>0</td>\n",
       "      <td>35.0</td>\n",
       "      <td>0</td>\n",
       "      <td>0</td>\n",
       "      <td>3.0</td>\n",
       "    </tr>\n",
       "    <tr>\n",
       "      <th>5</th>\n",
       "      <td>6</td>\n",
       "      <td>0</td>\n",
       "      <td>3</td>\n",
       "      <td>0</td>\n",
       "      <td>28.0</td>\n",
       "      <td>0</td>\n",
       "      <td>0</td>\n",
       "      <td>2.0</td>\n",
       "    </tr>\n",
       "    <tr>\n",
       "      <th>6</th>\n",
       "      <td>7</td>\n",
       "      <td>0</td>\n",
       "      <td>1</td>\n",
       "      <td>0</td>\n",
       "      <td>54.0</td>\n",
       "      <td>0</td>\n",
       "      <td>0</td>\n",
       "      <td>3.0</td>\n",
       "    </tr>\n",
       "    <tr>\n",
       "      <th>7</th>\n",
       "      <td>8</td>\n",
       "      <td>0</td>\n",
       "      <td>3</td>\n",
       "      <td>0</td>\n",
       "      <td>2.0</td>\n",
       "      <td>3</td>\n",
       "      <td>1</td>\n",
       "      <td>3.0</td>\n",
       "    </tr>\n",
       "    <tr>\n",
       "      <th>8</th>\n",
       "      <td>9</td>\n",
       "      <td>1</td>\n",
       "      <td>3</td>\n",
       "      <td>1</td>\n",
       "      <td>27.0</td>\n",
       "      <td>0</td>\n",
       "      <td>2</td>\n",
       "      <td>3.0</td>\n",
       "    </tr>\n",
       "    <tr>\n",
       "      <th>9</th>\n",
       "      <td>10</td>\n",
       "      <td>1</td>\n",
       "      <td>2</td>\n",
       "      <td>1</td>\n",
       "      <td>14.0</td>\n",
       "      <td>1</td>\n",
       "      <td>0</td>\n",
       "      <td>1.0</td>\n",
       "    </tr>\n",
       "    <tr>\n",
       "      <th>10</th>\n",
       "      <td>11</td>\n",
       "      <td>1</td>\n",
       "      <td>3</td>\n",
       "      <td>1</td>\n",
       "      <td>4.0</td>\n",
       "      <td>1</td>\n",
       "      <td>1</td>\n",
       "      <td>3.0</td>\n",
       "    </tr>\n",
       "    <tr>\n",
       "      <th>11</th>\n",
       "      <td>12</td>\n",
       "      <td>1</td>\n",
       "      <td>1</td>\n",
       "      <td>1</td>\n",
       "      <td>58.0</td>\n",
       "      <td>0</td>\n",
       "      <td>0</td>\n",
       "      <td>3.0</td>\n",
       "    </tr>\n",
       "    <tr>\n",
       "      <th>12</th>\n",
       "      <td>13</td>\n",
       "      <td>0</td>\n",
       "      <td>3</td>\n",
       "      <td>0</td>\n",
       "      <td>20.0</td>\n",
       "      <td>0</td>\n",
       "      <td>0</td>\n",
       "      <td>3.0</td>\n",
       "    </tr>\n",
       "    <tr>\n",
       "      <th>13</th>\n",
       "      <td>14</td>\n",
       "      <td>0</td>\n",
       "      <td>3</td>\n",
       "      <td>0</td>\n",
       "      <td>39.0</td>\n",
       "      <td>1</td>\n",
       "      <td>5</td>\n",
       "      <td>3.0</td>\n",
       "    </tr>\n",
       "    <tr>\n",
       "      <th>14</th>\n",
       "      <td>15</td>\n",
       "      <td>0</td>\n",
       "      <td>3</td>\n",
       "      <td>1</td>\n",
       "      <td>14.0</td>\n",
       "      <td>0</td>\n",
       "      <td>0</td>\n",
       "      <td>3.0</td>\n",
       "    </tr>\n",
       "    <tr>\n",
       "      <th>15</th>\n",
       "      <td>16</td>\n",
       "      <td>1</td>\n",
       "      <td>2</td>\n",
       "      <td>1</td>\n",
       "      <td>55.0</td>\n",
       "      <td>0</td>\n",
       "      <td>0</td>\n",
       "      <td>3.0</td>\n",
       "    </tr>\n",
       "    <tr>\n",
       "      <th>16</th>\n",
       "      <td>17</td>\n",
       "      <td>0</td>\n",
       "      <td>3</td>\n",
       "      <td>0</td>\n",
       "      <td>2.0</td>\n",
       "      <td>4</td>\n",
       "      <td>1</td>\n",
       "      <td>2.0</td>\n",
       "    </tr>\n",
       "    <tr>\n",
       "      <th>17</th>\n",
       "      <td>18</td>\n",
       "      <td>1</td>\n",
       "      <td>2</td>\n",
       "      <td>0</td>\n",
       "      <td>28.0</td>\n",
       "      <td>0</td>\n",
       "      <td>0</td>\n",
       "      <td>3.0</td>\n",
       "    </tr>\n",
       "    <tr>\n",
       "      <th>18</th>\n",
       "      <td>19</td>\n",
       "      <td>0</td>\n",
       "      <td>3</td>\n",
       "      <td>1</td>\n",
       "      <td>31.0</td>\n",
       "      <td>1</td>\n",
       "      <td>0</td>\n",
       "      <td>3.0</td>\n",
       "    </tr>\n",
       "    <tr>\n",
       "      <th>19</th>\n",
       "      <td>20</td>\n",
       "      <td>1</td>\n",
       "      <td>3</td>\n",
       "      <td>1</td>\n",
       "      <td>28.0</td>\n",
       "      <td>0</td>\n",
       "      <td>0</td>\n",
       "      <td>1.0</td>\n",
       "    </tr>\n",
       "  </tbody>\n",
       "</table>\n",
       "</div>"
      ]
     },
     "execution_count": 98,
     "metadata": {},
     "output_type": "execute_result"
    }
   ],
   "execution_count": 98
  },
  {
   "metadata": {
    "ExecuteTime": {
     "end_time": "2024-12-29T13:35:20.070327Z",
     "start_time": "2024-12-29T13:35:20.066229Z"
    }
   },
   "cell_type": "code",
   "source": [
    "female_df = train[train[\"Sex\"]==1]\n",
    "female_df_embarked = female_df[female_df.Pclass == 3]\n",
    "female_df_embarked['Survived'].count()"
   ],
   "id": "65209fcfe8dcfce6",
   "outputs": [
    {
     "data": {
      "text/plain": [
       "144"
      ]
     },
     "execution_count": 24,
     "metadata": {},
     "output_type": "execute_result"
    }
   ],
   "execution_count": 24
  },
  {
   "metadata": {
    "ExecuteTime": {
     "end_time": "2024-12-29T14:29:07.368514Z",
     "start_time": "2024-12-29T14:29:07.338611Z"
    }
   },
   "cell_type": "code",
   "source": [
    "correct =0\n",
    "count_pclass1 =0\n",
    "count_pclass2 =0\n",
    "count_pclass3 =0\n",
    "\n",
    "count_pclass3_em3 =0\n",
    "for i in range(len(female_df)):\n",
    "    y = female_df.iloc[i]['Survived']\n",
    "    x = female_df.iloc[i][2:]\n",
    "    \n",
    "\n",
    "    if x[0] == 1:\n",
    "        count_pclass1 +=1\n",
    "        z = 1\n",
    "    elif x[0] == 2:\n",
    "        count_pclass2+=1\n",
    "        z = 1\n",
    "    else:\n",
    "        count_pclass3 += 1\n",
    "        if x[5] == 3:\n",
    "            count_pclass3_em3 +=1\n",
    "            z = 0\n",
    "        else:\n",
    "            z = 1\n",
    "\n",
    "    \n",
    "    if y == z:\n",
    "        correct += 1\n",
    "print(correct/len(female_df))\n",
    "\n",
    "print(f\"Pclass1: {count_pclass1}\\n\"\n",
    "      f\"Pclass2: {count_pclass2}\\n\"\n",
    "      f\"Pclass3: {count_pclass3}\\n\"\n",
    "      f\"Pclass3_em3: {count_pclass3_em3}\")"
   ],
   "id": "8f1808612937a589",
   "outputs": [
    {
     "name": "stdout",
     "output_type": "stream",
     "text": [
      "0.8121019108280255\n",
      "Pclass1: 94\n",
      "Pclass2: 76\n",
      "Pclass3: 144\n",
      "Pclass3_em3: 88\n"
     ]
    },
    {
     "name": "stderr",
     "output_type": "stream",
     "text": [
      "C:\\Users\\admin\\AppData\\Local\\Temp\\ipykernel_13972\\482913697.py:12: FutureWarning: Series.__getitem__ treating keys as positions is deprecated. In a future version, integer keys will always be treated as labels (consistent with DataFrame behavior). To access a value by position, use `ser.iloc[pos]`\n",
      "  if x[0] == 1:\n",
      "C:\\Users\\admin\\AppData\\Local\\Temp\\ipykernel_13972\\482913697.py:15: FutureWarning: Series.__getitem__ treating keys as positions is deprecated. In a future version, integer keys will always be treated as labels (consistent with DataFrame behavior). To access a value by position, use `ser.iloc[pos]`\n",
      "  elif x[0] == 2:\n",
      "C:\\Users\\admin\\AppData\\Local\\Temp\\ipykernel_13972\\482913697.py:20: FutureWarning: Series.__getitem__ treating keys as positions is deprecated. In a future version, integer keys will always be treated as labels (consistent with DataFrame behavior). To access a value by position, use `ser.iloc[pos]`\n",
      "  if x[5] == 3:\n"
     ]
    }
   ],
   "execution_count": 86
  },
  {
   "metadata": {
    "ExecuteTime": {
     "end_time": "2024-12-29T13:40:28.564149Z",
     "start_time": "2024-12-29T13:40:28.559961Z"
    }
   },
   "cell_type": "code",
   "source": "male_df = train[train[\"Sex\"]==0]\n",
   "id": "d658ee5f1034229",
   "outputs": [],
   "execution_count": 28
  },
  {
   "metadata": {
    "ExecuteTime": {
     "end_time": "2024-12-29T14:32:12.561585Z",
     "start_time": "2024-12-29T14:32:12.513549Z"
    }
   },
   "cell_type": "code",
   "source": [
    "correct = 0\n",
    "for i in range(len(male_df)):\n",
    "    y = male_df.iloc[i]['Survived']\n",
    "    x = male_df.iloc[i][2:]\n",
    "    \n",
    "   \n",
    "    if x[5] == 2:\n",
    "        z = 0\n",
    "    elif x[5] == 1:\n",
    "        e = 1 if random.random() < 0.3 else 0\n",
    "    else:\n",
    "        e = 0 if random.random() < 0.89 else 1\n",
    "        \n",
    "    if y == z:\n",
    "        correct += 1\n",
    "print(correct/len(male_df))"
   ],
   "id": "212df40006e69446",
   "outputs": [
    {
     "name": "stdout",
     "output_type": "stream",
     "text": [
      "0.8110918544194108\n"
     ]
    },
    {
     "name": "stderr",
     "output_type": "stream",
     "text": [
      "C:\\Users\\admin\\AppData\\Local\\Temp\\ipykernel_13972\\3521944104.py:7: FutureWarning: Series.__getitem__ treating keys as positions is deprecated. In a future version, integer keys will always be treated as labels (consistent with DataFrame behavior). To access a value by position, use `ser.iloc[pos]`\n",
      "  if x[5] == 2:\n",
      "C:\\Users\\admin\\AppData\\Local\\Temp\\ipykernel_13972\\3521944104.py:9: FutureWarning: Series.__getitem__ treating keys as positions is deprecated. In a future version, integer keys will always be treated as labels (consistent with DataFrame behavior). To access a value by position, use `ser.iloc[pos]`\n",
      "  elif x[5] == 1:\n"
     ]
    }
   ],
   "execution_count": 95
  },
  {
   "metadata": {
    "ExecuteTime": {
     "end_time": "2024-12-29T14:31:30.591418Z",
     "start_time": "2024-12-29T14:31:30.578241Z"
    }
   },
   "cell_type": "code",
   "source": "male_df.describe()",
   "id": "11330e05d617bf0b",
   "outputs": [
    {
     "data": {
      "text/plain": [
       "       PassengerId    Survived      Pclass    Sex         Age       SibSp  \\\n",
       "count   577.000000  577.000000  577.000000  577.0  577.000000  577.000000   \n",
       "mean    454.147314    0.188908    2.389948    0.0   30.140676    0.429809   \n",
       "std     257.486139    0.391775    0.813580    0.0   13.050847    1.061811   \n",
       "min       1.000000    0.000000    1.000000    0.0    0.420000    0.000000   \n",
       "25%     222.000000    0.000000    2.000000    0.0   23.000000    0.000000   \n",
       "50%     464.000000    0.000000    3.000000    0.0   28.000000    0.000000   \n",
       "75%     680.000000    0.000000    3.000000    0.0   35.000000    0.000000   \n",
       "max     891.000000    1.000000    3.000000    0.0   80.000000    8.000000   \n",
       "\n",
       "            Parch    Embarked  \n",
       "count  577.000000  577.000000  \n",
       "mean     0.235702    2.599653  \n",
       "std      0.612294    0.755213  \n",
       "min      0.000000    1.000000  \n",
       "25%      0.000000    3.000000  \n",
       "50%      0.000000    3.000000  \n",
       "75%      0.000000    3.000000  \n",
       "max      5.000000    3.000000  "
      ],
      "text/html": [
       "<div>\n",
       "<style scoped>\n",
       "    .dataframe tbody tr th:only-of-type {\n",
       "        vertical-align: middle;\n",
       "    }\n",
       "\n",
       "    .dataframe tbody tr th {\n",
       "        vertical-align: top;\n",
       "    }\n",
       "\n",
       "    .dataframe thead th {\n",
       "        text-align: right;\n",
       "    }\n",
       "</style>\n",
       "<table border=\"1\" class=\"dataframe\">\n",
       "  <thead>\n",
       "    <tr style=\"text-align: right;\">\n",
       "      <th></th>\n",
       "      <th>PassengerId</th>\n",
       "      <th>Survived</th>\n",
       "      <th>Pclass</th>\n",
       "      <th>Sex</th>\n",
       "      <th>Age</th>\n",
       "      <th>SibSp</th>\n",
       "      <th>Parch</th>\n",
       "      <th>Embarked</th>\n",
       "    </tr>\n",
       "  </thead>\n",
       "  <tbody>\n",
       "    <tr>\n",
       "      <th>count</th>\n",
       "      <td>577.000000</td>\n",
       "      <td>577.000000</td>\n",
       "      <td>577.000000</td>\n",
       "      <td>577.0</td>\n",
       "      <td>577.000000</td>\n",
       "      <td>577.000000</td>\n",
       "      <td>577.000000</td>\n",
       "      <td>577.000000</td>\n",
       "    </tr>\n",
       "    <tr>\n",
       "      <th>mean</th>\n",
       "      <td>454.147314</td>\n",
       "      <td>0.188908</td>\n",
       "      <td>2.389948</td>\n",
       "      <td>0.0</td>\n",
       "      <td>30.140676</td>\n",
       "      <td>0.429809</td>\n",
       "      <td>0.235702</td>\n",
       "      <td>2.599653</td>\n",
       "    </tr>\n",
       "    <tr>\n",
       "      <th>std</th>\n",
       "      <td>257.486139</td>\n",
       "      <td>0.391775</td>\n",
       "      <td>0.813580</td>\n",
       "      <td>0.0</td>\n",
       "      <td>13.050847</td>\n",
       "      <td>1.061811</td>\n",
       "      <td>0.612294</td>\n",
       "      <td>0.755213</td>\n",
       "    </tr>\n",
       "    <tr>\n",
       "      <th>min</th>\n",
       "      <td>1.000000</td>\n",
       "      <td>0.000000</td>\n",
       "      <td>1.000000</td>\n",
       "      <td>0.0</td>\n",
       "      <td>0.420000</td>\n",
       "      <td>0.000000</td>\n",
       "      <td>0.000000</td>\n",
       "      <td>1.000000</td>\n",
       "    </tr>\n",
       "    <tr>\n",
       "      <th>25%</th>\n",
       "      <td>222.000000</td>\n",
       "      <td>0.000000</td>\n",
       "      <td>2.000000</td>\n",
       "      <td>0.0</td>\n",
       "      <td>23.000000</td>\n",
       "      <td>0.000000</td>\n",
       "      <td>0.000000</td>\n",
       "      <td>3.000000</td>\n",
       "    </tr>\n",
       "    <tr>\n",
       "      <th>50%</th>\n",
       "      <td>464.000000</td>\n",
       "      <td>0.000000</td>\n",
       "      <td>3.000000</td>\n",
       "      <td>0.0</td>\n",
       "      <td>28.000000</td>\n",
       "      <td>0.000000</td>\n",
       "      <td>0.000000</td>\n",
       "      <td>3.000000</td>\n",
       "    </tr>\n",
       "    <tr>\n",
       "      <th>75%</th>\n",
       "      <td>680.000000</td>\n",
       "      <td>0.000000</td>\n",
       "      <td>3.000000</td>\n",
       "      <td>0.0</td>\n",
       "      <td>35.000000</td>\n",
       "      <td>0.000000</td>\n",
       "      <td>0.000000</td>\n",
       "      <td>3.000000</td>\n",
       "    </tr>\n",
       "    <tr>\n",
       "      <th>max</th>\n",
       "      <td>891.000000</td>\n",
       "      <td>1.000000</td>\n",
       "      <td>3.000000</td>\n",
       "      <td>0.0</td>\n",
       "      <td>80.000000</td>\n",
       "      <td>8.000000</td>\n",
       "      <td>5.000000</td>\n",
       "      <td>3.000000</td>\n",
       "    </tr>\n",
       "  </tbody>\n",
       "</table>\n",
       "</div>"
      ]
     },
     "execution_count": 91,
     "metadata": {},
     "output_type": "execute_result"
    }
   ],
   "execution_count": 91
  },
  {
   "metadata": {
    "ExecuteTime": {
     "end_time": "2024-12-29T13:47:22.537173Z",
     "start_time": "2024-12-29T13:47:22.522123Z"
    }
   },
   "cell_type": "code",
   "source": [
    "male_life = male_df[male_df.Survived==1]\n",
    "male_dead = male_df[male_df.Survived==0]\n",
    "male_life.describe()"
   ],
   "id": "e7c4d47b57546aa",
   "outputs": [
    {
     "data": {
      "text/plain": [
       "       PassengerId  Survived      Pclass    Sex         Age       SibSp  \\\n",
       "count   109.000000     109.0  109.000000  109.0  109.000000  109.000000   \n",
       "mean    475.724771       1.0    2.018349    0.0   27.382294    0.385321   \n",
       "std     244.717482       0.0    0.922774    0.0   15.235418    0.636952   \n",
       "min      18.000000       1.0    1.000000    0.0    0.420000    0.000000   \n",
       "25%     272.000000       1.0    1.000000    0.0   20.000000    0.000000   \n",
       "50%     508.000000       1.0    2.000000    0.0   28.000000    0.000000   \n",
       "75%     680.000000       1.0    3.000000    0.0   35.000000    1.000000   \n",
       "max     890.000000       1.0    3.000000    0.0   80.000000    4.000000   \n",
       "\n",
       "            Parch    Embarked  \n",
       "count  109.000000  109.000000  \n",
       "mean     0.357798    2.440367  \n",
       "std      0.645826    0.886433  \n",
       "min      0.000000    1.000000  \n",
       "25%      0.000000    1.000000  \n",
       "50%      0.000000    3.000000  \n",
       "75%      1.000000    3.000000  \n",
       "max      2.000000    3.000000  "
      ],
      "text/html": [
       "<div>\n",
       "<style scoped>\n",
       "    .dataframe tbody tr th:only-of-type {\n",
       "        vertical-align: middle;\n",
       "    }\n",
       "\n",
       "    .dataframe tbody tr th {\n",
       "        vertical-align: top;\n",
       "    }\n",
       "\n",
       "    .dataframe thead th {\n",
       "        text-align: right;\n",
       "    }\n",
       "</style>\n",
       "<table border=\"1\" class=\"dataframe\">\n",
       "  <thead>\n",
       "    <tr style=\"text-align: right;\">\n",
       "      <th></th>\n",
       "      <th>PassengerId</th>\n",
       "      <th>Survived</th>\n",
       "      <th>Pclass</th>\n",
       "      <th>Sex</th>\n",
       "      <th>Age</th>\n",
       "      <th>SibSp</th>\n",
       "      <th>Parch</th>\n",
       "      <th>Embarked</th>\n",
       "    </tr>\n",
       "  </thead>\n",
       "  <tbody>\n",
       "    <tr>\n",
       "      <th>count</th>\n",
       "      <td>109.000000</td>\n",
       "      <td>109.0</td>\n",
       "      <td>109.000000</td>\n",
       "      <td>109.0</td>\n",
       "      <td>109.000000</td>\n",
       "      <td>109.000000</td>\n",
       "      <td>109.000000</td>\n",
       "      <td>109.000000</td>\n",
       "    </tr>\n",
       "    <tr>\n",
       "      <th>mean</th>\n",
       "      <td>475.724771</td>\n",
       "      <td>1.0</td>\n",
       "      <td>2.018349</td>\n",
       "      <td>0.0</td>\n",
       "      <td>27.382294</td>\n",
       "      <td>0.385321</td>\n",
       "      <td>0.357798</td>\n",
       "      <td>2.440367</td>\n",
       "    </tr>\n",
       "    <tr>\n",
       "      <th>std</th>\n",
       "      <td>244.717482</td>\n",
       "      <td>0.0</td>\n",
       "      <td>0.922774</td>\n",
       "      <td>0.0</td>\n",
       "      <td>15.235418</td>\n",
       "      <td>0.636952</td>\n",
       "      <td>0.645826</td>\n",
       "      <td>0.886433</td>\n",
       "    </tr>\n",
       "    <tr>\n",
       "      <th>min</th>\n",
       "      <td>18.000000</td>\n",
       "      <td>1.0</td>\n",
       "      <td>1.000000</td>\n",
       "      <td>0.0</td>\n",
       "      <td>0.420000</td>\n",
       "      <td>0.000000</td>\n",
       "      <td>0.000000</td>\n",
       "      <td>1.000000</td>\n",
       "    </tr>\n",
       "    <tr>\n",
       "      <th>25%</th>\n",
       "      <td>272.000000</td>\n",
       "      <td>1.0</td>\n",
       "      <td>1.000000</td>\n",
       "      <td>0.0</td>\n",
       "      <td>20.000000</td>\n",
       "      <td>0.000000</td>\n",
       "      <td>0.000000</td>\n",
       "      <td>1.000000</td>\n",
       "    </tr>\n",
       "    <tr>\n",
       "      <th>50%</th>\n",
       "      <td>508.000000</td>\n",
       "      <td>1.0</td>\n",
       "      <td>2.000000</td>\n",
       "      <td>0.0</td>\n",
       "      <td>28.000000</td>\n",
       "      <td>0.000000</td>\n",
       "      <td>0.000000</td>\n",
       "      <td>3.000000</td>\n",
       "    </tr>\n",
       "    <tr>\n",
       "      <th>75%</th>\n",
       "      <td>680.000000</td>\n",
       "      <td>1.0</td>\n",
       "      <td>3.000000</td>\n",
       "      <td>0.0</td>\n",
       "      <td>35.000000</td>\n",
       "      <td>1.000000</td>\n",
       "      <td>1.000000</td>\n",
       "      <td>3.000000</td>\n",
       "    </tr>\n",
       "    <tr>\n",
       "      <th>max</th>\n",
       "      <td>890.000000</td>\n",
       "      <td>1.0</td>\n",
       "      <td>3.000000</td>\n",
       "      <td>0.0</td>\n",
       "      <td>80.000000</td>\n",
       "      <td>4.000000</td>\n",
       "      <td>2.000000</td>\n",
       "      <td>3.000000</td>\n",
       "    </tr>\n",
       "  </tbody>\n",
       "</table>\n",
       "</div>"
      ]
     },
     "execution_count": 36,
     "metadata": {},
     "output_type": "execute_result"
    }
   ],
   "execution_count": 36
  },
  {
   "metadata": {
    "ExecuteTime": {
     "end_time": "2024-12-29T13:46:28.919476Z",
     "start_time": "2024-12-29T13:46:28.914807Z"
    }
   },
   "cell_type": "code",
   "source": "male_life[\"Embarked\"].value_counts()",
   "id": "674e796004570574",
   "outputs": [
    {
     "data": {
      "text/plain": [
       "Embarked\n",
       "3.0    77\n",
       "1.0    29\n",
       "2.0     3\n",
       "Name: count, dtype: int64"
      ]
     },
     "execution_count": 35,
     "metadata": {},
     "output_type": "execute_result"
    }
   ],
   "execution_count": 35
  },
  {
   "metadata": {
    "ExecuteTime": {
     "end_time": "2024-12-29T13:47:34.570179Z",
     "start_time": "2024-12-29T13:47:34.566132Z"
    }
   },
   "cell_type": "code",
   "source": "male_dead[\"Embarked\"].value_counts()",
   "id": "a5559d9929526f25",
   "outputs": [
    {
     "data": {
      "text/plain": [
       "Embarked\n",
       "3.0    364\n",
       "1.0     66\n",
       "2.0     38\n",
       "Name: count, dtype: int64"
      ]
     },
     "execution_count": 37,
     "metadata": {},
     "output_type": "execute_result"
    }
   ],
   "execution_count": 37
  },
  {
   "metadata": {
    "ExecuteTime": {
     "end_time": "2024-12-29T13:56:23.533565Z",
     "start_time": "2024-12-29T13:56:23.516820Z"
    }
   },
   "cell_type": "code",
   "source": [
    "male_life_embarked1 = male_life[male_life[\"Embarked\"]==1]\n",
    "male_dead_embarked1 = male_dead[male_dead[\"Embarked\"]==1]\n",
    "\n",
    "male_life_embarked3 = male_life[male_life[\"Embarked\"]==3]\n",
    "male_dead_embarked3 = male_dead[male_dead[\"Embarked\"]==3]\n",
    "\n",
    "male_life_embarked1.describe()"
   ],
   "id": "aeea68e7c85ec7b5",
   "outputs": [
    {
     "data": {
      "text/plain": [
       "       PassengerId  Survived     Pclass   Sex        Age      SibSp  \\\n",
       "count    29.000000      29.0  29.000000  29.0  29.000000  29.000000   \n",
       "mean    532.482759       1.0   1.758621   0.0  29.428276   0.344828   \n",
       "std     244.923694       0.0   0.950758   0.0  13.934153   0.483725   \n",
       "min      37.000000       1.0   1.000000   0.0   0.420000   0.000000   \n",
       "25%     454.000000       1.0   1.000000   0.0  23.000000   0.000000   \n",
       "50%     600.000000       1.0   1.000000   0.0  28.000000   0.000000   \n",
       "75%     682.000000       1.0   3.000000   0.0  35.000000   1.000000   \n",
       "max     890.000000       1.0   3.000000   0.0  60.000000   1.000000   \n",
       "\n",
       "           Parch  Embarked  \n",
       "count  29.000000      29.0  \n",
       "mean    0.379310       1.0  \n",
       "std     0.621852       0.0  \n",
       "min     0.000000       1.0  \n",
       "25%     0.000000       1.0  \n",
       "50%     0.000000       1.0  \n",
       "75%     1.000000       1.0  \n",
       "max     2.000000       1.0  "
      ],
      "text/html": [
       "<div>\n",
       "<style scoped>\n",
       "    .dataframe tbody tr th:only-of-type {\n",
       "        vertical-align: middle;\n",
       "    }\n",
       "\n",
       "    .dataframe tbody tr th {\n",
       "        vertical-align: top;\n",
       "    }\n",
       "\n",
       "    .dataframe thead th {\n",
       "        text-align: right;\n",
       "    }\n",
       "</style>\n",
       "<table border=\"1\" class=\"dataframe\">\n",
       "  <thead>\n",
       "    <tr style=\"text-align: right;\">\n",
       "      <th></th>\n",
       "      <th>PassengerId</th>\n",
       "      <th>Survived</th>\n",
       "      <th>Pclass</th>\n",
       "      <th>Sex</th>\n",
       "      <th>Age</th>\n",
       "      <th>SibSp</th>\n",
       "      <th>Parch</th>\n",
       "      <th>Embarked</th>\n",
       "    </tr>\n",
       "  </thead>\n",
       "  <tbody>\n",
       "    <tr>\n",
       "      <th>count</th>\n",
       "      <td>29.000000</td>\n",
       "      <td>29.0</td>\n",
       "      <td>29.000000</td>\n",
       "      <td>29.0</td>\n",
       "      <td>29.000000</td>\n",
       "      <td>29.000000</td>\n",
       "      <td>29.000000</td>\n",
       "      <td>29.0</td>\n",
       "    </tr>\n",
       "    <tr>\n",
       "      <th>mean</th>\n",
       "      <td>532.482759</td>\n",
       "      <td>1.0</td>\n",
       "      <td>1.758621</td>\n",
       "      <td>0.0</td>\n",
       "      <td>29.428276</td>\n",
       "      <td>0.344828</td>\n",
       "      <td>0.379310</td>\n",
       "      <td>1.0</td>\n",
       "    </tr>\n",
       "    <tr>\n",
       "      <th>std</th>\n",
       "      <td>244.923694</td>\n",
       "      <td>0.0</td>\n",
       "      <td>0.950758</td>\n",
       "      <td>0.0</td>\n",
       "      <td>13.934153</td>\n",
       "      <td>0.483725</td>\n",
       "      <td>0.621852</td>\n",
       "      <td>0.0</td>\n",
       "    </tr>\n",
       "    <tr>\n",
       "      <th>min</th>\n",
       "      <td>37.000000</td>\n",
       "      <td>1.0</td>\n",
       "      <td>1.000000</td>\n",
       "      <td>0.0</td>\n",
       "      <td>0.420000</td>\n",
       "      <td>0.000000</td>\n",
       "      <td>0.000000</td>\n",
       "      <td>1.0</td>\n",
       "    </tr>\n",
       "    <tr>\n",
       "      <th>25%</th>\n",
       "      <td>454.000000</td>\n",
       "      <td>1.0</td>\n",
       "      <td>1.000000</td>\n",
       "      <td>0.0</td>\n",
       "      <td>23.000000</td>\n",
       "      <td>0.000000</td>\n",
       "      <td>0.000000</td>\n",
       "      <td>1.0</td>\n",
       "    </tr>\n",
       "    <tr>\n",
       "      <th>50%</th>\n",
       "      <td>600.000000</td>\n",
       "      <td>1.0</td>\n",
       "      <td>1.000000</td>\n",
       "      <td>0.0</td>\n",
       "      <td>28.000000</td>\n",
       "      <td>0.000000</td>\n",
       "      <td>0.000000</td>\n",
       "      <td>1.0</td>\n",
       "    </tr>\n",
       "    <tr>\n",
       "      <th>75%</th>\n",
       "      <td>682.000000</td>\n",
       "      <td>1.0</td>\n",
       "      <td>3.000000</td>\n",
       "      <td>0.0</td>\n",
       "      <td>35.000000</td>\n",
       "      <td>1.000000</td>\n",
       "      <td>1.000000</td>\n",
       "      <td>1.0</td>\n",
       "    </tr>\n",
       "    <tr>\n",
       "      <th>max</th>\n",
       "      <td>890.000000</td>\n",
       "      <td>1.0</td>\n",
       "      <td>3.000000</td>\n",
       "      <td>0.0</td>\n",
       "      <td>60.000000</td>\n",
       "      <td>1.000000</td>\n",
       "      <td>2.000000</td>\n",
       "      <td>1.0</td>\n",
       "    </tr>\n",
       "  </tbody>\n",
       "</table>\n",
       "</div>"
      ]
     },
     "execution_count": 48,
     "metadata": {},
     "output_type": "execute_result"
    }
   ],
   "execution_count": 48
  },
  {
   "metadata": {
    "ExecuteTime": {
     "end_time": "2024-12-29T14:21:37.801384Z",
     "start_time": "2024-12-29T14:21:37.796893Z"
    }
   },
   "cell_type": "code",
   "source": [
    "male_life_embarked3['Pclass'].value_counts()\n",
    "# male_life_embarked3_Parh0 = male_life_embarked3[male_life_embarked3.Parch==0]\n",
    "# male_life_embarked3_Parh0.describe()"
   ],
   "id": "fb42a1aa793caeaa",
   "outputs": [
    {
     "data": {
      "text/plain": [
       "Pclass\n",
       "3    34\n",
       "1    28\n",
       "2    15\n",
       "Name: count, dtype: int64"
      ]
     },
     "execution_count": 71,
     "metadata": {},
     "output_type": "execute_result"
    }
   ],
   "execution_count": 71
  },
  {
   "metadata": {
    "ExecuteTime": {
     "end_time": "2024-12-29T14:22:24.415629Z",
     "start_time": "2024-12-29T14:22:24.410183Z"
    }
   },
   "cell_type": "code",
   "source": [
    "male_dead_embarked3['Pclass'].value_counts()\n",
    "# male_dead_embarked3_Parh0 = male_dead_embarked3[male_dead_embarked3.Parch==0]\n",
    "# male_dead_embarked3_Parh0.describe()"
   ],
   "id": "c8005057de9b39fa",
   "outputs": [
    {
     "data": {
      "text/plain": [
       "Pclass\n",
       "3    231\n",
       "2     82\n",
       "1     51\n",
       "Name: count, dtype: int64"
      ]
     },
     "execution_count": 73,
     "metadata": {},
     "output_type": "execute_result"
    }
   ],
   "execution_count": 73
  },
  {
   "metadata": {
    "ExecuteTime": {
     "end_time": "2024-12-29T14:15:49.149647Z",
     "start_time": "2024-12-29T14:15:49.145060Z"
    }
   },
   "cell_type": "code",
   "source": "male_dead_embarked3_Parh0[\"Pclass\"].value_counts()",
   "id": "71f8ef57514c0b73",
   "outputs": [
    {
     "data": {
      "text/plain": [
       "Pclass\n",
       "3    198\n",
       "2     74\n",
       "1     44\n",
       "Name: count, dtype: int64"
      ]
     },
     "execution_count": 61,
     "metadata": {},
     "output_type": "execute_result"
    }
   ],
   "execution_count": 61
  },
  {
   "metadata": {
    "ExecuteTime": {
     "end_time": "2024-12-29T14:16:03.400725Z",
     "start_time": "2024-12-29T14:16:03.396831Z"
    }
   },
   "cell_type": "code",
   "source": "male_life_embarked3_Parh0['Pclass'].value_counts()",
   "id": "cf946755ff7efa99",
   "outputs": [
    {
     "data": {
      "text/plain": [
       "Pclass\n",
       "3    27\n",
       "1    23\n",
       "2     7\n",
       "Name: count, dtype: int64"
      ]
     },
     "execution_count": 62,
     "metadata": {},
     "output_type": "execute_result"
    }
   ],
   "execution_count": 62
  },
  {
   "metadata": {},
   "cell_type": "code",
   "outputs": [],
   "execution_count": null,
   "source": "",
   "id": "94cd3154b5c9ba97"
  }
 ],
 "metadata": {
  "kernelspec": {
   "display_name": "Python 3",
   "language": "python",
   "name": "python3"
  },
  "language_info": {
   "codemirror_mode": {
    "name": "ipython",
    "version": 2
   },
   "file_extension": ".py",
   "mimetype": "text/x-python",
   "name": "python",
   "nbconvert_exporter": "python",
   "pygments_lexer": "ipython2",
   "version": "2.7.6"
  }
 },
 "nbformat": 4,
 "nbformat_minor": 5
}

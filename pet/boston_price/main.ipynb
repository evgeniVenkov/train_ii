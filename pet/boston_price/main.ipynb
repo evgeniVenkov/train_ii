{
 "cells": [
  {
   "cell_type": "code",
   "id": "initial_id",
   "metadata": {
    "collapsed": true,
    "ExecuteTime": {
     "end_time": "2025-01-09T17:05:39.424714Z",
     "start_time": "2025-01-09T17:05:39.421934Z"
    }
   },
   "source": [
    "import pandas as pd\n",
    "import torch\n",
    "import torch.nn as nn\n",
    "from torch.utils.data import Dataset, DataLoader,random_split\n",
    "import matplotlib.pyplot as plt"
   ],
   "outputs": [],
   "execution_count": 118
  },
  {
   "metadata": {
    "ExecuteTime": {
     "end_time": "2025-01-09T17:21:27.459671Z",
     "start_time": "2025-01-09T17:21:27.449649Z"
    }
   },
   "cell_type": "code",
   "source": [
    "df = pd.read_csv('data/boston.csv')\n",
    "df.head()"
   ],
   "id": "882b636f8047c3e2",
   "outputs": [
    {
     "data": {
      "text/plain": [
       "      CRIM    ZN  INDUS  CHAS    NOX     RM   AGE     DIS  RAD    TAX  \\\n",
       "0  0.00632  18.0   2.31     0  0.538  6.575  65.2  4.0900    1  296.0   \n",
       "1  0.02731   0.0   7.07     0  0.469  6.421  78.9  4.9671    2  242.0   \n",
       "2  0.02729   0.0   7.07     0  0.469  7.185  61.1  4.9671    2  242.0   \n",
       "3  0.03237   0.0   2.18     0  0.458  6.998  45.8  6.0622    3  222.0   \n",
       "4  0.06905   0.0   2.18     0  0.458  7.147  54.2  6.0622    3  222.0   \n",
       "\n",
       "   PTRATIO       B  LSTAT  MEDV  \n",
       "0     15.3  396.90   4.98  24.0  \n",
       "1     17.8  396.90   9.14  21.6  \n",
       "2     17.8  392.83   4.03  34.7  \n",
       "3     18.7  394.63   2.94  33.4  \n",
       "4     18.7  396.90   5.33  36.2  "
      ],
      "text/html": [
       "<div>\n",
       "<style scoped>\n",
       "    .dataframe tbody tr th:only-of-type {\n",
       "        vertical-align: middle;\n",
       "    }\n",
       "\n",
       "    .dataframe tbody tr th {\n",
       "        vertical-align: top;\n",
       "    }\n",
       "\n",
       "    .dataframe thead th {\n",
       "        text-align: right;\n",
       "    }\n",
       "</style>\n",
       "<table border=\"1\" class=\"dataframe\">\n",
       "  <thead>\n",
       "    <tr style=\"text-align: right;\">\n",
       "      <th></th>\n",
       "      <th>CRIM</th>\n",
       "      <th>ZN</th>\n",
       "      <th>INDUS</th>\n",
       "      <th>CHAS</th>\n",
       "      <th>NOX</th>\n",
       "      <th>RM</th>\n",
       "      <th>AGE</th>\n",
       "      <th>DIS</th>\n",
       "      <th>RAD</th>\n",
       "      <th>TAX</th>\n",
       "      <th>PTRATIO</th>\n",
       "      <th>B</th>\n",
       "      <th>LSTAT</th>\n",
       "      <th>MEDV</th>\n",
       "    </tr>\n",
       "  </thead>\n",
       "  <tbody>\n",
       "    <tr>\n",
       "      <th>0</th>\n",
       "      <td>0.00632</td>\n",
       "      <td>18.0</td>\n",
       "      <td>2.31</td>\n",
       "      <td>0</td>\n",
       "      <td>0.538</td>\n",
       "      <td>6.575</td>\n",
       "      <td>65.2</td>\n",
       "      <td>4.0900</td>\n",
       "      <td>1</td>\n",
       "      <td>296.0</td>\n",
       "      <td>15.3</td>\n",
       "      <td>396.90</td>\n",
       "      <td>4.98</td>\n",
       "      <td>24.0</td>\n",
       "    </tr>\n",
       "    <tr>\n",
       "      <th>1</th>\n",
       "      <td>0.02731</td>\n",
       "      <td>0.0</td>\n",
       "      <td>7.07</td>\n",
       "      <td>0</td>\n",
       "      <td>0.469</td>\n",
       "      <td>6.421</td>\n",
       "      <td>78.9</td>\n",
       "      <td>4.9671</td>\n",
       "      <td>2</td>\n",
       "      <td>242.0</td>\n",
       "      <td>17.8</td>\n",
       "      <td>396.90</td>\n",
       "      <td>9.14</td>\n",
       "      <td>21.6</td>\n",
       "    </tr>\n",
       "    <tr>\n",
       "      <th>2</th>\n",
       "      <td>0.02729</td>\n",
       "      <td>0.0</td>\n",
       "      <td>7.07</td>\n",
       "      <td>0</td>\n",
       "      <td>0.469</td>\n",
       "      <td>7.185</td>\n",
       "      <td>61.1</td>\n",
       "      <td>4.9671</td>\n",
       "      <td>2</td>\n",
       "      <td>242.0</td>\n",
       "      <td>17.8</td>\n",
       "      <td>392.83</td>\n",
       "      <td>4.03</td>\n",
       "      <td>34.7</td>\n",
       "    </tr>\n",
       "    <tr>\n",
       "      <th>3</th>\n",
       "      <td>0.03237</td>\n",
       "      <td>0.0</td>\n",
       "      <td>2.18</td>\n",
       "      <td>0</td>\n",
       "      <td>0.458</td>\n",
       "      <td>6.998</td>\n",
       "      <td>45.8</td>\n",
       "      <td>6.0622</td>\n",
       "      <td>3</td>\n",
       "      <td>222.0</td>\n",
       "      <td>18.7</td>\n",
       "      <td>394.63</td>\n",
       "      <td>2.94</td>\n",
       "      <td>33.4</td>\n",
       "    </tr>\n",
       "    <tr>\n",
       "      <th>4</th>\n",
       "      <td>0.06905</td>\n",
       "      <td>0.0</td>\n",
       "      <td>2.18</td>\n",
       "      <td>0</td>\n",
       "      <td>0.458</td>\n",
       "      <td>7.147</td>\n",
       "      <td>54.2</td>\n",
       "      <td>6.0622</td>\n",
       "      <td>3</td>\n",
       "      <td>222.0</td>\n",
       "      <td>18.7</td>\n",
       "      <td>396.90</td>\n",
       "      <td>5.33</td>\n",
       "      <td>36.2</td>\n",
       "    </tr>\n",
       "  </tbody>\n",
       "</table>\n",
       "</div>"
      ]
     },
     "execution_count": 188,
     "metadata": {},
     "output_type": "execute_result"
    }
   ],
   "execution_count": 188
  },
  {
   "metadata": {
    "ExecuteTime": {
     "end_time": "2025-01-09T17:30:32.247908Z",
     "start_time": "2025-01-09T17:30:32.244568Z"
    }
   },
   "cell_type": "code",
   "source": [
    "class Model(nn.Module):\n",
    "    def __init__(self):\n",
    "        super().__init__()\n",
    "        self.run = nn.Sequential(nn.Linear(11,32),\n",
    "                                nn.ReLU(),\n",
    "                                nn.Linear(32,64),\n",
    "                                nn.ReLU(),\n",
    "                                 \n",
    "                                nn.Linear(64,128),\n",
    "                                nn.ReLU(),\n",
    "                                nn.Linear(128,256),\n",
    "                                nn.ReLU(),\n",
    "                                \n",
    "                                nn.Dropout(0.5),\n",
    "                                \n",
    "                                nn.Linear(256,128),\n",
    "                                nn.ReLU(),\n",
    "                                nn.Linear(128,64),\n",
    "                                nn.ReLU(),\n",
    "                                \n",
    "                                nn.Linear(64,32),\n",
    "                                nn.ReLU(),\n",
    "                                nn.Linear(32,1))\n",
    "    def forward(self,x):\n",
    "        return self.run(x)"
   ],
   "id": "9d4cede9342d2d8b",
   "outputs": [],
   "execution_count": 257
  },
  {
   "metadata": {
    "ExecuteTime": {
     "end_time": "2025-01-09T17:30:32.634427Z",
     "start_time": "2025-01-09T17:30:32.630563Z"
    }
   },
   "cell_type": "code",
   "source": [
    "class MuData(Dataset):\n",
    "    def __init__(self):\n",
    "        df1= pd.read_csv('data/boston.csv')\n",
    "        del df1['B']\n",
    "        del df1['RAD']\n",
    "        \n",
    "        self.len = len(df1)\n",
    "        self.data = df1\n",
    "    def __len__(self):\n",
    "        return self.len\n",
    "    def __getitem__(self, idx):\n",
    "        \n",
    "        target = torch.tensor(self.data.iloc[idx].tolist()[11])\n",
    "        sample = torch.tensor(self.data.iloc[idx].tolist()[0:11])\n",
    "        return target, sample\n",
    "        \n",
    "        "
   ],
   "id": "32b798311931cb78",
   "outputs": [],
   "execution_count": 258
  },
  {
   "metadata": {
    "ExecuteTime": {
     "end_time": "2025-01-09T17:30:34.518418Z",
     "start_time": "2025-01-09T17:30:34.511849Z"
    }
   },
   "cell_type": "code",
   "source": [
    "data = MuData()\n",
    "train_set, val_set = random_split(data,[0.8,0.2])\n",
    "train_loader = DataLoader(train_set,batch_size=8,shuffle=True)\n",
    "val_loader = DataLoader(val_set,batch_size=8,shuffle=False)\n",
    "\n"
   ],
   "id": "e369cebcb5db8a08",
   "outputs": [],
   "execution_count": 259
  },
  {
   "metadata": {
    "ExecuteTime": {
     "end_time": "2025-01-09T17:31:11.894116Z",
     "start_time": "2025-01-09T17:31:11.889293Z"
    }
   },
   "cell_type": "code",
   "source": [
    "model = Model()\n",
    "loss_fn = nn.MSELoss()\n",
    "optimizer = torch.optim.Adam(model.parameters(),lr=0.01)\n",
    "\n",
    "train_loss = []\n",
    "val_loss = []\n"
   ],
   "id": "d4beb0b906e690ab",
   "outputs": [],
   "execution_count": 264
  },
  {
   "metadata": {
    "ExecuteTime": {
     "end_time": "2025-01-09T17:31:48.308341Z",
     "start_time": "2025-01-09T17:31:48.305743Z"
    }
   },
   "cell_type": "code",
   "source": [
    "lr = 0.0001\n",
    "Epochs = 7"
   ],
   "id": "38fb98a33d8b4ab3",
   "outputs": [],
   "execution_count": 273
  },
  {
   "metadata": {
    "ExecuteTime": {
     "end_time": "2025-01-09T17:31:49.827730Z",
     "start_time": "2025-01-09T17:31:48.592771Z"
    }
   },
   "cell_type": "code",
   "source": [
    "for param_group in optimizer.param_groups:\n",
    "    param_group['lr'] = lr\n",
    "\n",
    "for epoch in range(Epochs):\n",
    "    \n",
    "    mean_loss = []\n",
    "    correct = 0\n",
    "    total = 0\n",
    "    \n",
    "    model.train()\n",
    "    for target,x in train_loader:\n",
    "        target = target.unsqueeze(1)\n",
    "        prediction = model(x)\n",
    "        loss = loss_fn(prediction,target)\n",
    "        optimizer.zero_grad()\n",
    "        loss.backward()\n",
    "        optimizer.step()\n",
    "        mean_loss.append(loss.item())\n",
    "        \n",
    "        \n",
    "    mean = sum(mean_loss)/len(mean_loss)\n",
    "    print(f'Train_Epoch {epoch} Loss: {mean}')\n",
    "    train_loss.append(mean)\n",
    "    mean_loss = []\n",
    "    \n",
    "    model.eval()\n",
    "    for target,x in val_loader:\n",
    "        target = target.unsqueeze(1)\n",
    "        prediction = model(x)\n",
    "        loss = loss_fn(prediction,target)\n",
    "        mean_loss.append(loss.item())\n",
    "        \n",
    "        \n",
    "    mean = sum(mean_loss)/len(mean_loss)\n",
    "    print(f'Val_Epoch {epoch} Loss: {mean}')\n",
    "    val_loss.append(sum(mean_loss)/len(mean_loss))\n",
    "        \n",
    "        \n",
    "    "
   ],
   "id": "a135e1ff06cb606a",
   "outputs": [
    {
     "name": "stdout",
     "output_type": "stream",
     "text": [
      "Train_Epoch 0 Loss: 41.58434210571588\n",
      "Val_Epoch 0 Loss: 28.60313320159912\n",
      "Train_Epoch 1 Loss: 44.380419665691896\n",
      "Val_Epoch 1 Loss: 29.399153782771183\n",
      "Train_Epoch 2 Loss: 41.242678146736296\n",
      "Val_Epoch 2 Loss: 28.7043944138747\n",
      "Train_Epoch 3 Loss: 43.897885453467275\n",
      "Val_Epoch 3 Loss: 28.568101296058067\n",
      "Train_Epoch 4 Loss: 40.99866703444836\n",
      "Val_Epoch 4 Loss: 28.4067199413593\n",
      "Train_Epoch 5 Loss: 41.02826415791231\n",
      "Val_Epoch 5 Loss: 28.50599641066331\n",
      "Train_Epoch 6 Loss: 40.219303925832115\n",
      "Val_Epoch 6 Loss: 28.39782428741455\n"
     ]
    }
   ],
   "execution_count": 274
  },
  {
   "metadata": {
    "ExecuteTime": {
     "end_time": "2025-01-09T17:31:50.890172Z",
     "start_time": "2025-01-09T17:31:50.802559Z"
    }
   },
   "cell_type": "code",
   "source": [
    "# Построение графика\n",
    "plt.plot(train_loss, label='Train Loss', color='blue')  # Синим график обучающих потерь\n",
    "plt.plot(val_loss, label='Validation Loss', color='red')   # Отображаем график потерь\n",
    "plt.xlabel('Epoch')  # Подпись оси X (например, эпохи)\n",
    "plt.ylabel('Loss')  # Подпись оси Y (значения потерь)\n",
    "plt.title('Loss over Epochs')  # Заголовок графика\n",
    "plt.legend()  # Легенда\n",
    "plt.grid(True)  # Включение сетки\n",
    "plt.show() "
   ],
   "id": "494ff8ada294db39",
   "outputs": [
    {
     "data": {
      "text/plain": [
       "<Figure size 640x480 with 1 Axes>"
      ],
      "image/png": "[encoded data removed]"
     },
     "metadata": {},
     "output_type": "display_data"
    }
   ],
   "execution_count": 275
  },
  {
   "metadata": {
    "ExecuteTime": {
     "end_time": "2025-01-09T17:45:32.305708Z",
     "start_time": "2025-01-09T17:45:32.164190Z"
    }
   },
   "cell_type": "code",
   "source": [
    "def truth(predict, target):\n",
    "    return abs(predict - target) <= 1\n",
    "\n",
    "correct = 0\n",
    "total = 0\n",
    "model.eval()\n",
    "\n",
    "for target, x in data:\n",
    "    prediction = model(x)\n",
    "    if truth(prediction, target):\n",
    "        correct += 1\n",
    "    total += 1\n",
    "print(f'Accuracy: {correct / total}\\n'\n",
    "      f'correct: {correct}\\n'\n",
    "      f'total: {total}')\n",
    "\n",
    "    "
   ],
   "id": "e32c301852e38fa",
   "outputs": [
    {
     "name": "stdout",
     "output_type": "stream",
     "text": [
      "Accuracy: 0.17588932806324112\n",
      "correct: 89\n",
      "total: 506\n"
     ]
    }
   ],
   "execution_count": 283
  },
  {
   "metadata": {},
   "cell_type": "code",
   "outputs": [],
   "execution_count": null,
   "source": "",
   "id": "a75e584ce5a20cf5"
  }
 ],
 "metadata": {
  "kernelspec": {
   "display_name": "Python 3",
   "language": "python",
   "name": "python3"
  },
  "language_info": {
   "codemirror_mode": {
    "name": "ipython",
    "version": 2
   },
   "file_extension": ".py",
   "mimetype": "text/x-python",
   "name": "python",
   "nbconvert_exporter": "python",
   "pygments_lexer": "ipython2",
   "version": "2.7.6"
  }
 },
 "nbformat": 4,
 "nbformat_minor": 5
}

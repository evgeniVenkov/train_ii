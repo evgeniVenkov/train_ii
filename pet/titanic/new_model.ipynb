{
 "cells": [
  {
   "cell_type": "code",
   "id": "initial_id",
   "metadata": {
    "collapsed": true,
    "ExecuteTime": {
     "end_time": "2024-12-29T10:20:48.228294Z",
     "start_time": "2024-12-29T10:20:47.525880Z"
    }
   },
   "source": [
    "import xgboost as xgb\n",
    "from sklearn.model_selection import train_test_split\n",
    "from sklearn.metrics import accuracy_score\n",
    "import pandas as pd\n",
    "import numpy as np"
   ],
   "outputs": [],
   "execution_count": 1
  },
  {
   "metadata": {
    "ExecuteTime": {
     "end_time": "2024-12-29T10:22:24.760482Z",
     "start_time": "2024-12-29T10:22:24.706464Z"
    }
   },
   "cell_type": "code",
   "source": [
    "train = pd.read_csv('data/train.csv')\n",
    "\n",
    "del train['Ticket']\n",
    "del train['Cabin']\n",
    "del train['Name']\n",
    "del train['Fare']\n",
    "train['Sex'] = train['Sex'].map({\"male\": 0, \"female\": 1}).astype(np.int8)\n",
    "train['Age'] = train['Age'].fillna(value=train['Age'].median())\n",
    "train['Embarked'] = train['Embarked'].fillna(0.1)\n",
    "train['Embarked'] = train['Embarked'].replace({'C': 0.1, 'Q': 0.2, 'S': 0.3}).astype(float)\n",
    "\n",
    "\n",
    "# Подготовка данных\n",
    "X = train.drop(['Survived'], axis=1)  # Признаки\n",
    "y = train['Survived']  # Целевая метка\n",
    "\n",
    "# Разделение на обучающую и тестовую выборки\n",
    "X_train, X_test, y_train, y_test = train_test_split(X, y, test_size=0.2, random_state=42)\n",
    "\n",
    "# Модель XGBoost\n",
    "model = xgb.XGBClassifier(eval_metric='logloss')  # Убери use_label_encoder\n",
    "\n",
    "model.fit(X_train, y_train)\n",
    "\n",
    "# Предсказание\n",
    "y_pred = model.predict(X_test)\n",
    "\n",
    "# Оценка точности\n",
    "accuracy = accuracy_score(y_test, y_pred)\n",
    "print(f\"Точность модели: {accuracy:.2f}\")"
   ],
   "id": "324d551d26cbded4",
   "outputs": [
    {
     "name": "stdout",
     "output_type": "stream",
     "text": [
      "Точность модели: 0.77\n"
     ]
    },
    {
     "name": "stderr",
     "output_type": "stream",
     "text": [
      "C:\\Users\\admin\\AppData\\Local\\Temp\\ipykernel_13972\\2139759010.py:10: FutureWarning: Downcasting behavior in `replace` is deprecated and will be removed in a future version. To retain the old behavior, explicitly call `result.infer_objects(copy=False)`. To opt-in to the future behavior, set `pd.set_option('future.no_silent_downcasting', True)`\n",
      "  train['Embarked'] = train['Embarked'].replace({'C': 0.1, 'Q': 0.2, 'S': 0.3}).astype(float)\n"
     ]
    }
   ],
   "execution_count": 3
  },
  {
   "metadata": {},
   "cell_type": "code",
   "outputs": [],
   "execution_count": null,
   "source": "",
   "id": "65209fcfe8dcfce6"
  }
 ],
 "metadata": {
  "kernelspec": {
   "display_name": "Python 3",
   "language": "python",
   "name": "python3"
  },
  "language_info": {
   "codemirror_mode": {
    "name": "ipython",
    "version": 2
   },
   "file_extension": ".py",
   "mimetype": "text/x-python",
   "name": "python",
   "nbconvert_exporter": "python",
   "pygments_lexer": "ipython2",
   "version": "2.7.6"
  }
 },
 "nbformat": 4,
 "nbformat_minor": 5
}
